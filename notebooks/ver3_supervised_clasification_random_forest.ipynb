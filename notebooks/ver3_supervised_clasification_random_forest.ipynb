{
 "cells": [
  {
   "cell_type": "code",
   "execution_count": 1,
   "metadata": {},
   "outputs": [
    {
     "name": "stdout",
     "output_type": "stream",
     "text": [
      "Welcome to JupyROOT 6.10/00\n"
     ]
    }
   ],
   "source": [
    "import sys\n",
    "import os\n",
    "import subprocess\n",
    "\n",
    "app_base_dir = '/home/spbproc/euso-spb-patt-reco-v1'\n",
    "if app_base_dir not in sys.path:\n",
    "    sys.path.append(app_base_dir)\n",
    "\n",
    "import re\n",
    "# import collections\n",
    "import numpy as np\n",
    "import psycopg2 as pg\n",
    "import pandas as pd\n",
    "import pandas.io.sql as psql\n",
    "import getpass\n",
    "import matplotlib as mpl\n",
    "import argparse\n",
    "import glob\n",
    "# from tqdm import tqdm\n",
    "import traceback\n",
    "import hashlib\n",
    "\n",
    "from utility_funtions import str2bool_argparse\n",
    "\n",
    "mpl.rcParams['figure.dpi'] = 80\n",
    "\n",
    "import matplotlib.pyplot as plt\n",
    "\n",
    "#import ROOT\n",
    "\n",
    "# import tool.npy_frames_visualization as npy_vis\n",
    "import tool.acqconv\n",
    "from data_analysis_utils import *\n",
    "from event_recognition_efficiency_v3 import *\n",
    "# import supervised_classification as supc"
   ]
  },
  {
   "cell_type": "code",
   "execution_count": null,
   "metadata": {
    "collapsed": true
   },
   "outputs": [],
   "source": [
    "import dataset_query_functions_v3"
   ]
  },
  {
   "cell_type": "code",
   "execution_count": null,
   "metadata": {
    "collapsed": true
   },
   "outputs": [],
   "source": []
  }
 ],
 "metadata": {
  "kernelspec": {
   "display_name": "Python 3",
   "language": "python",
   "name": "python3"
  },
  "language_info": {
   "codemirror_mode": {
    "name": "ipython",
    "version": 3
   },
   "file_extension": ".py",
   "mimetype": "text/x-python",
   "name": "python",
   "nbconvert_exporter": "python",
   "pygments_lexer": "ipython3",
   "version": "3.5.2"
  }
 },
 "nbformat": 4,
 "nbformat_minor": 2
}
