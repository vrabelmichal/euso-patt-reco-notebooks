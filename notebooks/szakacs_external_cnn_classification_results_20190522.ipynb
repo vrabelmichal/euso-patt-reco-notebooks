{
 "cells": [
  {
   "cell_type": "code",
   "execution_count": 1,
   "metadata": {},
   "outputs": [],
   "source": [
    "import sys\n",
    "import os\n",
    "\n",
    "import pandas as pd\n",
    "\n",
    "app_base_dir = '/home/spbproc/euso-spb-patt-reco-v1'\n",
    "if app_base_dir not in sys.path:\n",
    "    sys.path.append(app_base_dir)\n",
    "\n",
    "import event_processing_v3\n",
    "import event_processing_v4\n",
    "import postgresql_v3_event_storage\n",
    "import dataset_query_functions_v3\n",
    "\n",
    "import sqlite3"
   ]
  },
  {
   "cell_type": "code",
   "execution_count": 2,
   "metadata": {},
   "outputs": [],
   "source": [
    "classifiaction_tables_dir = 'szakacs_external_cnn_classification_results_20190522'\n",
    "data_snippets_dir = 'szakacs_external_cnn_classification_results_20190522'\n",
    "\n",
    "os.makedirs(data_snippets_dir, exist_ok=True)"
   ]
  },
  {
   "cell_type": "code",
   "execution_count": 3,
   "metadata": {},
   "outputs": [],
   "source": [
    "event_v3_storage_provider_flight = dataset_query_functions_v3.build_event_v3_storage_provider(\n",
    "    event_storage_provider_config_file=os.path.join(app_base_dir,'config_w_flatmap.ini'), \n",
    "    table_names_version='ver4',\n",
    "    event_storage_class=postgresql_v3_event_storage.PostgreSqlEventV3StorageProvider,\n",
    "    event_processing_class=event_processing_v4.EventProcessingV4,\n",
    "    readonly=False\n",
    ")\n",
    "\n",
    "query_functions_flight = dataset_query_functions_v3.Ver3DatasetQueryFunctions(event_v3_storage_provider_flight)"
   ]
  },
  {
   "cell_type": "code",
   "execution_count": 4,
   "metadata": {},
   "outputs": [],
   "source": [
    "# %load_ext autoreload\n",
    "# %autoreload 2"
   ]
  },
  {
   "cell_type": "code",
   "execution_count": 5,
   "metadata": {},
   "outputs": [],
   "source": [
    "sqlite_db_pathname = os.path.join(classifiaction_tables_dir, 'flight_evals.sqlite')"
   ]
  },
  {
   "cell_type": "code",
   "execution_count": 6,
   "metadata": {},
   "outputs": [],
   "source": [
    "conn = sqlite3.connect(sqlite_db_pathname)"
   ]
  },
  {
   "cell_type": "code",
   "execution_count": 7,
   "metadata": {},
   "outputs": [],
   "source": [
    "classification_columns = (('event_id', int), ('class', int), ('class_probability', float))"
   ]
  },
  {
   "cell_type": "markdown",
   "metadata": {},
   "source": [
    "## tnet_simu"
   ]
  },
  {
   "cell_type": "code",
   "execution_count": 8,
   "metadata": {},
   "outputs": [],
   "source": [
    "classification_slug_tnet_simu = 'cnn_tnet_simu_20190521'"
   ]
  },
  {
   "cell_type": "code",
   "execution_count": 9,
   "metadata": {},
   "outputs": [],
   "source": [
    "tnet_simu_df = pd.read_sql('SELECT * FROM tnet_simu', conn)"
   ]
  },
  {
   "cell_type": "code",
   "execution_count": 10,
   "metadata": {},
   "outputs": [
    {
     "data": {
      "text/html": [
       "<div>\n",
       "<style>\n",
       "    .dataframe thead tr:only-child th {\n",
       "        text-align: right;\n",
       "    }\n",
       "\n",
       "    .dataframe thead th {\n",
       "        text-align: left;\n",
       "    }\n",
       "\n",
       "    .dataframe tbody tr th {\n",
       "        vertical-align: top;\n",
       "    }\n",
       "</style>\n",
       "<table border=\"1\" class=\"dataframe\">\n",
       "  <thead>\n",
       "    <tr style=\"text-align: right;\">\n",
       "      <th></th>\n",
       "      <th>item_idx</th>\n",
       "      <th>output</th>\n",
       "      <th>target</th>\n",
       "      <th>shower_prob</th>\n",
       "      <th>noise_prob</th>\n",
       "      <th>source_file_acquisition_full</th>\n",
       "      <th>start_gtu</th>\n",
       "      <th>end_gtu</th>\n",
       "      <th>packet_id</th>\n",
       "      <th>event_id</th>\n",
       "    </tr>\n",
       "  </thead>\n",
       "  <tbody>\n",
       "    <tr>\n",
       "      <th>0</th>\n",
       "      <td>0</td>\n",
       "      <td>noise</td>\n",
       "      <td>noise</td>\n",
       "      <td>0.0</td>\n",
       "      <td>1.0</td>\n",
       "      <td>/home/spbproc/SPBDATA_flight/allpackets-SPBEUS...</td>\n",
       "      <td>35</td>\n",
       "      <td>55</td>\n",
       "      <td>0</td>\n",
       "      <td>61</td>\n",
       "    </tr>\n",
       "    <tr>\n",
       "      <th>1</th>\n",
       "      <td>1</td>\n",
       "      <td>noise</td>\n",
       "      <td>noise</td>\n",
       "      <td>0.0</td>\n",
       "      <td>1.0</td>\n",
       "      <td>/home/spbproc/SPBDATA_flight/allpackets-SPBEUS...</td>\n",
       "      <td>34</td>\n",
       "      <td>54</td>\n",
       "      <td>1</td>\n",
       "      <td>67</td>\n",
       "    </tr>\n",
       "    <tr>\n",
       "      <th>2</th>\n",
       "      <td>2</td>\n",
       "      <td>noise</td>\n",
       "      <td>noise</td>\n",
       "      <td>0.0</td>\n",
       "      <td>1.0</td>\n",
       "      <td>/home/spbproc/SPBDATA_flight/allpackets-SPBEUS...</td>\n",
       "      <td>35</td>\n",
       "      <td>55</td>\n",
       "      <td>0</td>\n",
       "      <td>73</td>\n",
       "    </tr>\n",
       "    <tr>\n",
       "      <th>3</th>\n",
       "      <td>3</td>\n",
       "      <td>shower</td>\n",
       "      <td>noise</td>\n",
       "      <td>1.0</td>\n",
       "      <td>0.0</td>\n",
       "      <td>/home/spbproc/SPBDATA_flight/allpackets-SPBEUS...</td>\n",
       "      <td>30</td>\n",
       "      <td>50</td>\n",
       "      <td>1</td>\n",
       "      <td>75</td>\n",
       "    </tr>\n",
       "    <tr>\n",
       "      <th>4</th>\n",
       "      <td>4</td>\n",
       "      <td>noise</td>\n",
       "      <td>noise</td>\n",
       "      <td>0.0</td>\n",
       "      <td>1.0</td>\n",
       "      <td>/home/spbproc/SPBDATA_flight/allpackets-SPBEUS...</td>\n",
       "      <td>34</td>\n",
       "      <td>54</td>\n",
       "      <td>0</td>\n",
       "      <td>77</td>\n",
       "    </tr>\n",
       "  </tbody>\n",
       "</table>\n",
       "</div>"
      ],
      "text/plain": [
       "   item_idx  output target  shower_prob  noise_prob  \\\n",
       "0         0   noise  noise          0.0         1.0   \n",
       "1         1   noise  noise          0.0         1.0   \n",
       "2         2   noise  noise          0.0         1.0   \n",
       "3         3  shower  noise          1.0         0.0   \n",
       "4         4   noise  noise          0.0         1.0   \n",
       "\n",
       "                        source_file_acquisition_full  start_gtu  end_gtu  \\\n",
       "0  /home/spbproc/SPBDATA_flight/allpackets-SPBEUS...         35       55   \n",
       "1  /home/spbproc/SPBDATA_flight/allpackets-SPBEUS...         34       54   \n",
       "2  /home/spbproc/SPBDATA_flight/allpackets-SPBEUS...         35       55   \n",
       "3  /home/spbproc/SPBDATA_flight/allpackets-SPBEUS...         30       50   \n",
       "4  /home/spbproc/SPBDATA_flight/allpackets-SPBEUS...         34       54   \n",
       "\n",
       "   packet_id  event_id  \n",
       "0          0        61  \n",
       "1          1        67  \n",
       "2          0        73  \n",
       "3          1        75  \n",
       "4          0        77  "
      ]
     },
     "execution_count": 10,
     "metadata": {},
     "output_type": "execute_result"
    }
   ],
   "source": [
    "tnet_simu_df.head()"
   ]
  },
  {
   "cell_type": "code",
   "execution_count": 11,
   "metadata": {
    "scrolled": true
   },
   "outputs": [],
   "source": [
    "tnet_simu_df['class'] = tnet_simu_df['output'].str.match('shower').astype('int32')"
   ]
  },
  {
   "cell_type": "code",
   "execution_count": 12,
   "metadata": {
    "scrolled": true
   },
   "outputs": [
    {
     "data": {
      "text/html": [
       "<div>\n",
       "<style>\n",
       "    .dataframe thead tr:only-child th {\n",
       "        text-align: right;\n",
       "    }\n",
       "\n",
       "    .dataframe thead th {\n",
       "        text-align: left;\n",
       "    }\n",
       "\n",
       "    .dataframe tbody tr th {\n",
       "        vertical-align: top;\n",
       "    }\n",
       "</style>\n",
       "<table border=\"1\" class=\"dataframe\">\n",
       "  <thead>\n",
       "    <tr style=\"text-align: right;\">\n",
       "      <th></th>\n",
       "      <th>event_id</th>\n",
       "      <th>class</th>\n",
       "      <th>shower_prob</th>\n",
       "    </tr>\n",
       "  </thead>\n",
       "  <tbody>\n",
       "    <tr>\n",
       "      <th>0</th>\n",
       "      <td>61</td>\n",
       "      <td>0</td>\n",
       "      <td>0.0</td>\n",
       "    </tr>\n",
       "    <tr>\n",
       "      <th>1</th>\n",
       "      <td>67</td>\n",
       "      <td>0</td>\n",
       "      <td>0.0</td>\n",
       "    </tr>\n",
       "    <tr>\n",
       "      <th>2</th>\n",
       "      <td>73</td>\n",
       "      <td>0</td>\n",
       "      <td>0.0</td>\n",
       "    </tr>\n",
       "    <tr>\n",
       "      <th>3</th>\n",
       "      <td>75</td>\n",
       "      <td>1</td>\n",
       "      <td>1.0</td>\n",
       "    </tr>\n",
       "    <tr>\n",
       "      <th>4</th>\n",
       "      <td>77</td>\n",
       "      <td>0</td>\n",
       "      <td>0.0</td>\n",
       "    </tr>\n",
       "  </tbody>\n",
       "</table>\n",
       "</div>"
      ],
      "text/plain": [
       "   event_id  class  shower_prob\n",
       "0        61      0          0.0\n",
       "1        67      0          0.0\n",
       "2        73      0          0.0\n",
       "3        75      1          1.0\n",
       "4        77      0          0.0"
      ]
     },
     "execution_count": 12,
     "metadata": {},
     "output_type": "execute_result"
    }
   ],
   "source": [
    "tnet_simu_df[['event_id', 'class', 'shower_prob']].head()"
   ]
  },
  {
   "cell_type": "code",
   "execution_count": 13,
   "metadata": {},
   "outputs": [],
   "source": [
    "event_v3_storage_provider_flight.create_classification_table(\n",
    "    classification_slug_tnet_simu, classification_columns)"
   ]
  },
  {
   "cell_type": "code",
   "execution_count": 14,
   "metadata": {},
   "outputs": [],
   "source": [
    "event_v3_storage_provider_flight.save_classification_data(\n",
    "    classification_slug_tnet_simu, tnet_simu_df[['event_id', 'class', 'shower_prob']].values, \n",
    "    classification_columns, num_inserts_at_once=1000)"
   ]
  },
  {
   "cell_type": "markdown",
   "metadata": {},
   "source": [
    "## gnet3b_simu"
   ]
  },
  {
   "cell_type": "code",
   "execution_count": 15,
   "metadata": {},
   "outputs": [],
   "source": [
    "classification_slug_gnet3b_simu = 'cnn_gnet3b_simu_20190521'"
   ]
  },
  {
   "cell_type": "code",
   "execution_count": 16,
   "metadata": {},
   "outputs": [],
   "source": [
    "gnet3b_simu_df = pd.read_sql('SELECT * FROM gnet3b_simu', conn)"
   ]
  },
  {
   "cell_type": "code",
   "execution_count": 17,
   "metadata": {},
   "outputs": [
    {
     "data": {
      "text/html": [
       "<div>\n",
       "<style>\n",
       "    .dataframe thead tr:only-child th {\n",
       "        text-align: right;\n",
       "    }\n",
       "\n",
       "    .dataframe thead th {\n",
       "        text-align: left;\n",
       "    }\n",
       "\n",
       "    .dataframe tbody tr th {\n",
       "        vertical-align: top;\n",
       "    }\n",
       "</style>\n",
       "<table border=\"1\" class=\"dataframe\">\n",
       "  <thead>\n",
       "    <tr style=\"text-align: right;\">\n",
       "      <th></th>\n",
       "      <th>item_idx</th>\n",
       "      <th>output</th>\n",
       "      <th>target</th>\n",
       "      <th>shower_prob</th>\n",
       "      <th>noise_prob</th>\n",
       "      <th>source_file_acquisition_full</th>\n",
       "      <th>start_gtu</th>\n",
       "      <th>end_gtu</th>\n",
       "      <th>packet_id</th>\n",
       "      <th>event_id</th>\n",
       "    </tr>\n",
       "  </thead>\n",
       "  <tbody>\n",
       "    <tr>\n",
       "      <th>0</th>\n",
       "      <td>0</td>\n",
       "      <td>noise</td>\n",
       "      <td>noise</td>\n",
       "      <td>0.0</td>\n",
       "      <td>1.0</td>\n",
       "      <td>/home/spbproc/SPBDATA_flight/allpackets-SPBEUS...</td>\n",
       "      <td>35</td>\n",
       "      <td>55</td>\n",
       "      <td>0</td>\n",
       "      <td>61</td>\n",
       "    </tr>\n",
       "    <tr>\n",
       "      <th>1</th>\n",
       "      <td>1</td>\n",
       "      <td>noise</td>\n",
       "      <td>noise</td>\n",
       "      <td>0.0</td>\n",
       "      <td>1.0</td>\n",
       "      <td>/home/spbproc/SPBDATA_flight/allpackets-SPBEUS...</td>\n",
       "      <td>34</td>\n",
       "      <td>54</td>\n",
       "      <td>1</td>\n",
       "      <td>67</td>\n",
       "    </tr>\n",
       "    <tr>\n",
       "      <th>2</th>\n",
       "      <td>2</td>\n",
       "      <td>noise</td>\n",
       "      <td>noise</td>\n",
       "      <td>0.0</td>\n",
       "      <td>1.0</td>\n",
       "      <td>/home/spbproc/SPBDATA_flight/allpackets-SPBEUS...</td>\n",
       "      <td>35</td>\n",
       "      <td>55</td>\n",
       "      <td>0</td>\n",
       "      <td>73</td>\n",
       "    </tr>\n",
       "    <tr>\n",
       "      <th>3</th>\n",
       "      <td>3</td>\n",
       "      <td>noise</td>\n",
       "      <td>noise</td>\n",
       "      <td>0.0</td>\n",
       "      <td>1.0</td>\n",
       "      <td>/home/spbproc/SPBDATA_flight/allpackets-SPBEUS...</td>\n",
       "      <td>30</td>\n",
       "      <td>50</td>\n",
       "      <td>1</td>\n",
       "      <td>75</td>\n",
       "    </tr>\n",
       "    <tr>\n",
       "      <th>4</th>\n",
       "      <td>4</td>\n",
       "      <td>noise</td>\n",
       "      <td>noise</td>\n",
       "      <td>0.0</td>\n",
       "      <td>1.0</td>\n",
       "      <td>/home/spbproc/SPBDATA_flight/allpackets-SPBEUS...</td>\n",
       "      <td>34</td>\n",
       "      <td>54</td>\n",
       "      <td>0</td>\n",
       "      <td>77</td>\n",
       "    </tr>\n",
       "  </tbody>\n",
       "</table>\n",
       "</div>"
      ],
      "text/plain": [
       "   item_idx output target  shower_prob  noise_prob  \\\n",
       "0         0  noise  noise          0.0         1.0   \n",
       "1         1  noise  noise          0.0         1.0   \n",
       "2         2  noise  noise          0.0         1.0   \n",
       "3         3  noise  noise          0.0         1.0   \n",
       "4         4  noise  noise          0.0         1.0   \n",
       "\n",
       "                        source_file_acquisition_full  start_gtu  end_gtu  \\\n",
       "0  /home/spbproc/SPBDATA_flight/allpackets-SPBEUS...         35       55   \n",
       "1  /home/spbproc/SPBDATA_flight/allpackets-SPBEUS...         34       54   \n",
       "2  /home/spbproc/SPBDATA_flight/allpackets-SPBEUS...         35       55   \n",
       "3  /home/spbproc/SPBDATA_flight/allpackets-SPBEUS...         30       50   \n",
       "4  /home/spbproc/SPBDATA_flight/allpackets-SPBEUS...         34       54   \n",
       "\n",
       "   packet_id  event_id  \n",
       "0          0        61  \n",
       "1          1        67  \n",
       "2          0        73  \n",
       "3          1        75  \n",
       "4          0        77  "
      ]
     },
     "execution_count": 17,
     "metadata": {},
     "output_type": "execute_result"
    }
   ],
   "source": [
    "gnet3b_simu_df.head()"
   ]
  },
  {
   "cell_type": "code",
   "execution_count": 18,
   "metadata": {
    "scrolled": true
   },
   "outputs": [],
   "source": [
    "gnet3b_simu_df['class'] = gnet3b_simu_df['output'].str.match('shower').astype('int32')"
   ]
  },
  {
   "cell_type": "code",
   "execution_count": 19,
   "metadata": {
    "scrolled": true
   },
   "outputs": [
    {
     "data": {
      "text/html": [
       "<div>\n",
       "<style>\n",
       "    .dataframe thead tr:only-child th {\n",
       "        text-align: right;\n",
       "    }\n",
       "\n",
       "    .dataframe thead th {\n",
       "        text-align: left;\n",
       "    }\n",
       "\n",
       "    .dataframe tbody tr th {\n",
       "        vertical-align: top;\n",
       "    }\n",
       "</style>\n",
       "<table border=\"1\" class=\"dataframe\">\n",
       "  <thead>\n",
       "    <tr style=\"text-align: right;\">\n",
       "      <th></th>\n",
       "      <th>event_id</th>\n",
       "      <th>class</th>\n",
       "      <th>shower_prob</th>\n",
       "    </tr>\n",
       "  </thead>\n",
       "  <tbody>\n",
       "    <tr>\n",
       "      <th>0</th>\n",
       "      <td>61</td>\n",
       "      <td>0</td>\n",
       "      <td>0.0</td>\n",
       "    </tr>\n",
       "    <tr>\n",
       "      <th>1</th>\n",
       "      <td>67</td>\n",
       "      <td>0</td>\n",
       "      <td>0.0</td>\n",
       "    </tr>\n",
       "    <tr>\n",
       "      <th>2</th>\n",
       "      <td>73</td>\n",
       "      <td>0</td>\n",
       "      <td>0.0</td>\n",
       "    </tr>\n",
       "    <tr>\n",
       "      <th>3</th>\n",
       "      <td>75</td>\n",
       "      <td>0</td>\n",
       "      <td>0.0</td>\n",
       "    </tr>\n",
       "    <tr>\n",
       "      <th>4</th>\n",
       "      <td>77</td>\n",
       "      <td>0</td>\n",
       "      <td>0.0</td>\n",
       "    </tr>\n",
       "  </tbody>\n",
       "</table>\n",
       "</div>"
      ],
      "text/plain": [
       "   event_id  class  shower_prob\n",
       "0        61      0          0.0\n",
       "1        67      0          0.0\n",
       "2        73      0          0.0\n",
       "3        75      0          0.0\n",
       "4        77      0          0.0"
      ]
     },
     "execution_count": 19,
     "metadata": {},
     "output_type": "execute_result"
    }
   ],
   "source": [
    "gnet3b_simu_df[['event_id', 'class', 'shower_prob']].head()"
   ]
  },
  {
   "cell_type": "code",
   "execution_count": 20,
   "metadata": {},
   "outputs": [],
   "source": [
    "event_v3_storage_provider_flight.create_classification_table(\n",
    "    classification_slug_gnet3b_simu, classification_columns)"
   ]
  },
  {
   "cell_type": "code",
   "execution_count": 21,
   "metadata": {},
   "outputs": [],
   "source": [
    "event_v3_storage_provider_flight.save_classification_data(\n",
    "    classification_slug_gnet3b_simu, gnet3b_simu_df[['event_id', 'class', 'shower_prob']].values, \n",
    "    classification_columns, num_inserts_at_once=1000)"
   ]
  },
  {
   "cell_type": "code",
   "execution_count": null,
   "metadata": {},
   "outputs": [],
   "source": []
  }
 ],
 "metadata": {
  "kernelspec": {
   "display_name": "Python 3",
   "language": "python",
   "name": "python3"
  },
  "language_info": {
   "codemirror_mode": {
    "name": "ipython",
    "version": 3
   },
   "file_extension": ".py",
   "mimetype": "text/x-python",
   "name": "python",
   "nbconvert_exporter": "python",
   "pygments_lexer": "ipython3",
   "version": "3.6.3"
  }
 },
 "nbformat": 4,
 "nbformat_minor": 2
}
