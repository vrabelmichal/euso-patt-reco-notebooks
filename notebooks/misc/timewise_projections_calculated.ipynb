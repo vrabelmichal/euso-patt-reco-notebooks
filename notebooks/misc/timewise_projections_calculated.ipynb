{
 "cells": [
  {
   "cell_type": "markdown",
   "metadata": {},
   "source": [
    "Presently does not work as desired"
   ]
  },
  {
   "cell_type": "code",
   "execution_count": 7,
   "metadata": {},
   "outputs": [],
   "source": [
    "import matplotlib.pyplot as plt\n",
    "import numpy as np\n",
    "import scipy as sp\n",
    "import scipy.constants as spc"
   ]
  },
  {
   "cell_type": "code",
   "execution_count": 8,
   "metadata": {},
   "outputs": [
    {
     "data": {
      "text/plain": [
       "299792458.0"
      ]
     },
     "execution_count": 8,
     "metadata": {},
     "output_type": "execute_result"
    }
   ],
   "source": [
    "spc.c"
   ]
  },
  {
   "cell_type": "code",
   "execution_count": 72,
   "metadata": {},
   "outputs": [],
   "source": [
    "def sim_proj(phi, theta, gtu, altitude, det_altitude, theta_fov=np.deg2rad(11/2), foc_size=1, foc_pix=48, c=spc.c):\n",
    "#     , foc_pix=48\n",
    "#     Dt_sec = num_gtu * 2.5 *  spc.micro # seconds\n",
    "#     Ds = spc.c * Dt_sec\n",
    "#     Ds = \n",
    "#     f = np.sqrt(s**2 - altitude**2)\n",
    "\n",
    "    t_sec = gtu * 2.5 *  spc.micro # seconds\n",
    "    s = c * t_sec\n",
    "    f = np.sin(theta) * s\n",
    "    \n",
    "    x = f * np.cos(phi)\n",
    "    y = f * np.sin(phi)\n",
    "    \n",
    "    F = 2 * np.tan(theta_fov)*(altitude - det_altitude)\n",
    "    \n",
    "    x_foc = x * foc_size / F \n",
    "    x_foc_pix = np.round(x_foc * 48 / foc_size  + 48 / 2)\n",
    "    \n",
    "    y_foc = y * foc_size / F\n",
    "    y_foc_pix = np.round(y_foc  * 48 / foc_size  + 48 / 2)\n",
    "    \n",
    "    print('t_sec =', t_sec)\n",
    "    print('s =', s)\n",
    "    print('f =', f)\n",
    "    print('F =', F)\n",
    "    print('x =', x)\n",
    "    print('y =', y)\n",
    "    print('x_foc =', x_foc)\n",
    "    print('y_foc =', y_foc)\n",
    "    print('x_foc_pix =', x_foc_pix)\n",
    "    print('y_foc_pix =', y_foc_pix)\n",
    "    \n",
    "    print('-'*50)\n",
    "    \n",
    "    return x_foc_pix, y_foc_pix"
   ]
  },
  {
   "cell_type": "code",
   "execution_count": 73,
   "metadata": {},
   "outputs": [
    {
     "name": "stdout",
     "output_type": "stream",
     "text": [
      "t_sec = 0.0\n",
      "s = 0.0\n",
      "f = 0.0\n",
      "F = 4236.718120691699\n",
      "x = -0.0\n",
      "y = 0.0\n",
      "x_foc = -0.0\n",
      "y_foc = 0.0\n",
      "x_foc_pix = 24.0\n",
      "y_foc_pix = 24.0\n",
      "--------------------------------------------------\n",
      "t_sec = 2.4999999999999998e-06\n",
      "s = 374.7405725\n",
      "f = 263.54640356348096\n",
      "F = 4236.718120691699\n",
      "x = -227.03763830429145\n",
      "y = 133.83055564576762\n",
      "x_foc = -0.053588091498337535\n",
      "y_foc = 0.03158826049629142\n",
      "x_foc_pix = 21.0\n",
      "y_foc_pix = 26.0\n",
      "--------------------------------------------------\n",
      "t_sec = 4.9999999999999996e-06\n",
      "s = 749.481145\n",
      "f = 527.0928071269619\n",
      "F = 4236.718120691699\n",
      "x = -454.0752766085829\n",
      "y = 267.66111129153524\n",
      "x_foc = -0.10717618299667507\n",
      "y_foc = 0.06317652099258284\n",
      "x_foc_pix = 19.0\n",
      "y_foc_pix = 27.0\n",
      "--------------------------------------------------\n",
      "t_sec = 7.499999999999999e-06\n",
      "s = 1124.2217174999998\n",
      "f = 790.639210690443\n",
      "F = 4236.718120691699\n",
      "x = -681.1129149128744\n",
      "y = 401.4916669373029\n",
      "x_foc = -0.16076427449501263\n",
      "y_foc = 0.09476478148887427\n",
      "x_foc_pix = 16.0\n",
      "y_foc_pix = 29.0\n",
      "--------------------------------------------------\n",
      "t_sec = 9.999999999999999e-06\n",
      "s = 1498.96229\n",
      "f = 1054.1856142539239\n",
      "F = 4236.718120691699\n",
      "x = -908.1505532171658\n",
      "y = 535.3222225830705\n",
      "x_foc = -0.21435236599335014\n",
      "y_foc = 0.12635304198516567\n",
      "x_foc_pix = 14.0\n",
      "y_foc_pix = 30.0\n",
      "--------------------------------------------------\n",
      "t_sec = 1.2499999999999999e-05\n",
      "s = 1873.7028624999998\n",
      "f = 1317.732017817405\n",
      "F = 4236.718120691699\n",
      "x = -1135.1881915214574\n",
      "y = 669.1527782288382\n",
      "x_foc = -0.2679404574916877\n",
      "y_foc = 0.1579413024814571\n",
      "x_foc_pix = 11.0\n",
      "y_foc_pix = 32.0\n",
      "--------------------------------------------------\n",
      "t_sec = 1.4999999999999999e-05\n",
      "s = 2248.4434349999997\n",
      "f = 1581.278421380886\n",
      "F = 4236.718120691699\n",
      "x = -1362.2258298257489\n",
      "y = 802.9833338746058\n",
      "x_foc = -0.32152854899002525\n",
      "y_foc = 0.18952956297774853\n",
      "x_foc_pix = 9.0\n",
      "y_foc_pix = 33.0\n",
      "--------------------------------------------------\n",
      "t_sec = 1.75e-05\n",
      "s = 2623.1840074999996\n",
      "f = 1844.8248249443668\n",
      "F = 4236.718120691699\n",
      "x = -1589.26346813004\n",
      "y = 936.8138895203734\n",
      "x_foc = -0.37511664048836274\n",
      "y_foc = 0.22111782347403994\n",
      "x_foc_pix = 6.0\n",
      "y_foc_pix = 35.0\n",
      "--------------------------------------------------\n",
      "t_sec = 1.9999999999999998e-05\n",
      "s = 2997.92458\n",
      "f = 2108.3712285078477\n",
      "F = 4236.718120691699\n",
      "x = -1816.3011064343316\n",
      "y = 1070.644445166141\n",
      "x_foc = -0.4287047319867003\n",
      "y_foc = 0.25270608397033134\n",
      "x_foc_pix = 3.0\n",
      "y_foc_pix = 36.0\n",
      "--------------------------------------------------\n",
      "t_sec = 2.2499999999999998e-05\n",
      "s = 3372.6651524999997\n",
      "f = 2371.917632071329\n",
      "F = 4236.718120691699\n",
      "x = -2043.3387447386233\n",
      "y = 1204.4750008119088\n",
      "x_foc = -0.4822928234850379\n",
      "y_foc = 0.28429434446662283\n",
      "x_foc_pix = 1.0\n",
      "y_foc_pix = 38.0\n",
      "--------------------------------------------------\n",
      "t_sec = 2.4999999999999998e-05\n",
      "s = 3747.4057249999996\n",
      "f = 2635.46403563481\n",
      "F = 4236.718120691699\n",
      "x = -2270.3763830429148\n",
      "y = 1338.3055564576764\n",
      "x_foc = -0.5358809149833754\n",
      "y_foc = 0.3158826049629142\n",
      "x_foc_pix = -2.0\n",
      "y_foc_pix = 39.0\n",
      "--------------------------------------------------\n",
      "t_sec = 2.7499999999999998e-05\n",
      "s = 4122.1462974999995\n",
      "f = 2899.010439198291\n",
      "F = 4236.718120691699\n",
      "x = -2497.414021347206\n",
      "y = 1472.136112103444\n",
      "x_foc = -0.589469006481713\n",
      "y_foc = 0.34747086545920564\n",
      "x_foc_pix = -4.0\n",
      "y_foc_pix = 41.0\n",
      "--------------------------------------------------\n",
      "t_sec = 2.9999999999999997e-05\n",
      "s = 4496.886869999999\n",
      "f = 3162.556842761772\n",
      "F = 4236.718120691699\n",
      "x = -2724.4516596514977\n",
      "y = 1605.9666677492116\n",
      "x_foc = -0.6430570979800505\n",
      "y_foc = 0.37905912595549707\n",
      "x_foc_pix = -7.0\n",
      "y_foc_pix = 42.0\n",
      "--------------------------------------------------\n",
      "t_sec = 3.25e-05\n",
      "s = 4871.627442499999\n",
      "f = 3426.1032463252527\n",
      "F = 4236.718120691699\n",
      "x = -2951.489297955789\n",
      "y = 1739.7972233949793\n",
      "x_foc = -0.696645189478388\n",
      "y_foc = 0.41064738645178844\n",
      "x_foc_pix = -9.0\n",
      "y_foc_pix = 44.0\n",
      "--------------------------------------------------\n",
      "t_sec = 3.5e-05\n",
      "s = 5246.368014999999\n",
      "f = 3689.6496498887336\n",
      "F = 4236.718120691699\n",
      "x = -3178.52693626008\n",
      "y = 1873.6277790407469\n",
      "x_foc = -0.7502332809767255\n",
      "y_foc = 0.4422356469480799\n",
      "x_foc_pix = -12.0\n",
      "y_foc_pix = 45.0\n",
      "--------------------------------------------------\n",
      "t_sec = 3.75e-05\n",
      "s = 5621.1085875\n",
      "f = 3953.196053452215\n",
      "F = 4236.718120691699\n",
      "x = -3405.564574564372\n",
      "y = 2007.4583346865147\n",
      "x_foc = -0.8038213724750631\n",
      "y_foc = 0.47382390744437136\n",
      "x_foc_pix = -15.0\n",
      "y_foc_pix = 47.0\n",
      "--------------------------------------------------\n",
      "t_sec = 3.9999999999999996e-05\n",
      "s = 5995.84916\n",
      "f = 4216.742457015695\n",
      "F = 4236.718120691699\n",
      "x = -3632.602212868663\n",
      "y = 2141.288890332282\n",
      "x_foc = -0.8574094639734006\n",
      "y_foc = 0.5054121679406627\n",
      "x_foc_pix = -17.0\n",
      "y_foc_pix = 48.0\n",
      "--------------------------------------------------\n",
      "t_sec = 4.2499999999999996e-05\n",
      "s = 6370.5897325\n",
      "f = 4480.288860579177\n",
      "F = 4236.718120691699\n",
      "x = -3859.639851172955\n",
      "y = 2275.11944597805\n",
      "x_foc = -0.9109975554717382\n",
      "y_foc = 0.5370004284369542\n",
      "x_foc_pix = -20.0\n",
      "y_foc_pix = 50.0\n",
      "--------------------------------------------------\n",
      "t_sec = 4.4999999999999996e-05\n",
      "s = 6745.3303049999995\n",
      "f = 4743.835264142658\n",
      "F = 4236.718120691699\n",
      "x = -4086.6774894772466\n",
      "y = 2408.9500016238176\n",
      "x_foc = -0.9645856469700758\n",
      "y_foc = 0.5685886889332457\n",
      "x_foc_pix = -22.0\n",
      "y_foc_pix = 51.0\n",
      "--------------------------------------------------\n",
      "t_sec = 4.7499999999999996e-05\n",
      "s = 7120.070877499999\n",
      "f = 5007.381667706139\n",
      "F = 4236.718120691699\n",
      "x = -4313.715127781537\n",
      "y = 2542.780557269585\n",
      "x_foc = -1.0181737384684133\n",
      "y_foc = 0.600176949429537\n",
      "x_foc_pix = -25.0\n",
      "y_foc_pix = 53.0\n",
      "--------------------------------------------------\n",
      "t_sec = 4.9999999999999996e-05\n",
      "s = 7494.811449999999\n",
      "f = 5270.92807126962\n",
      "F = 4236.718120691699\n",
      "x = -4540.7527660858295\n",
      "y = 2676.611112915353\n",
      "x_foc = -1.0717618299667508\n",
      "y_foc = 0.6317652099258284\n",
      "x_foc_pix = -27.0\n",
      "y_foc_pix = 54.0\n",
      "--------------------------------------------------\n",
      "t_sec = 5.2499999999999995e-05\n",
      "s = 7869.552022499999\n",
      "f = 5534.4744748331\n",
      "F = 4236.718120691699\n",
      "x = -4767.790404390121\n",
      "y = 2810.4416685611204\n",
      "x_foc = -1.1253499214650884\n",
      "y_foc = 0.6633534704221199\n",
      "x_foc_pix = -30.0\n",
      "y_foc_pix = 56.0\n",
      "--------------------------------------------------\n",
      "t_sec = 5.4999999999999995e-05\n",
      "s = 8244.292594999999\n",
      "f = 5798.020878396582\n",
      "F = 4236.718120691699\n",
      "x = -4994.828042694412\n",
      "y = 2944.272224206888\n",
      "x_foc = -1.178938012963426\n",
      "y_foc = 0.6949417309184113\n",
      "x_foc_pix = -33.0\n",
      "y_foc_pix = 57.0\n",
      "--------------------------------------------------\n",
      "t_sec = 5.7499999999999995e-05\n",
      "s = 8619.0331675\n",
      "f = 6061.567281960063\n",
      "F = 4236.718120691699\n",
      "x = -5221.865680998704\n",
      "y = 3078.1027798526557\n",
      "x_foc = -1.2325261044617637\n",
      "y_foc = 0.7265299914147026\n",
      "x_foc_pix = -35.0\n",
      "y_foc_pix = 59.0\n",
      "--------------------------------------------------\n",
      "t_sec = 5.9999999999999995e-05\n",
      "s = 8993.773739999999\n",
      "f = 6325.113685523544\n",
      "F = 4236.718120691699\n",
      "x = -5448.903319302995\n",
      "y = 3211.9333354984233\n",
      "x_foc = -1.286114195960101\n",
      "y_foc = 0.7581182519109941\n",
      "x_foc_pix = -38.0\n",
      "y_foc_pix = 60.0\n",
      "--------------------------------------------------\n"
     ]
    }
   ],
   "source": [
    "gtus = list(range(0, 25))\n",
    "phi = 2.60895609856 # == 149.48 deg #np.deg2rad(170)\n",
    "theta = 0.77999651432 # == 44.69 deg # np.deg2rad(60)\n",
    "det_altitude = 27 * spc.kilo # meters\n",
    "altitude = 5 * spc.kilo # meters\n",
    "\n",
    "x_foc_pix, y_foc_pix = zip(*[sim_proj(phi, theta, gtu, det_altitude, altitude, c=spc.c/2) for gtu in gtus])"
   ]
  },
  {
   "cell_type": "code",
   "execution_count": 74,
   "metadata": {},
   "outputs": [
    {
     "data": {
      "image/png": "[encoded data removed]",
      "text/plain": [
       "<Figure size 432x288 with 1 Axes>"
      ]
     },
     "metadata": {
      "needs_background": "light"
     },
     "output_type": "display_data"
    }
   ],
   "source": [
    "plt.plot(gtus, x_foc_pix, marker='*')\n",
    "plt.gca().invert_yaxis()\n",
    "plt.gca().set_aspect(aspect=1)\n",
    "plt.show()"
   ]
  },
  {
   "cell_type": "code",
   "execution_count": 75,
   "metadata": {},
   "outputs": [
    {
     "data": {
      "image/png": "[encoded data removed]",
      "text/plain": [
       "<Figure size 432x288 with 1 Axes>"
      ]
     },
     "metadata": {
      "needs_background": "light"
     },
     "output_type": "display_data"
    }
   ],
   "source": [
    "plt.plot(gtus, y_foc_pix, marker='*')\n",
    "plt.gca().invert_yaxis()\n",
    "plt.gca().set_aspect(aspect=1)\n",
    "plt.show()"
   ]
  },
  {
   "cell_type": "code",
   "execution_count": 77,
   "metadata": {},
   "outputs": [
    {
     "data": {
      "image/png": "[encoded data removed]",
      "text/plain": [
       "<Figure size 432x288 with 1 Axes>"
      ]
     },
     "metadata": {
      "needs_background": "light"
     },
     "output_type": "display_data"
    }
   ],
   "source": [
    "plt.plot(x_foc_pix, y_foc_pix, marker='*')\n",
    "plt.gca().invert_yaxis()\n",
    "plt.gca().set_aspect(aspect=1)\n",
    "plt.show()"
   ]
  },
  {
   "cell_type": "code",
   "execution_count": 71,
   "metadata": {},
   "outputs": [
    {
     "data": {
      "image/png": "[encoded data removed]",
      "text/plain": [
       "<Figure size 432x288 with 1 Axes>"
      ]
     },
     "metadata": {
      "needs_background": "light"
     },
     "output_type": "display_data"
    }
   ],
   "source": [
    "# just to more immitate correct solution\n",
    "plt.plot(x_foc_pix, y_foc_pix, marker='*')\n",
    "plt.gca().invert_yaxis()\n",
    "plt.gca().invert_xaxis()\n",
    "plt.gca().set_aspect(aspect=1)\n",
    "plt.show()"
   ]
  },
  {
   "cell_type": "markdown",
   "metadata": {},
   "source": [
    "Actually the angle above seems to be 2.609 rad - CORRECT"
   ]
  },
  {
   "cell_type": "code",
   "execution_count": null,
   "metadata": {},
   "outputs": [],
   "source": []
  }
 ],
 "metadata": {
  "kernelspec": {
   "display_name": "Python 3",
   "language": "python",
   "name": "python3"
  },
  "language_info": {
   "codemirror_mode": {
    "name": "ipython",
    "version": 3
   },
   "file_extension": ".py",
   "mimetype": "text/x-python",
   "name": "python",
   "nbconvert_exporter": "python",
   "pygments_lexer": "ipython3",
   "version": "3.6.3"
  }
 },
 "nbformat": 4,
 "nbformat_minor": 2
}
