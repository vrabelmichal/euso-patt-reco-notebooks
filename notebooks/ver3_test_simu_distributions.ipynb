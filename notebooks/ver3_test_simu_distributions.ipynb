{
 "cells": [
  {
   "cell_type": "code",
   "execution_count": 15,
   "metadata": {},
   "outputs": [
    {
     "name": "stdout",
     "output_type": "stream",
     "text": [
      "Welcome to JupyROOT 6.10/00\n"
     ]
    }
   ],
   "source": [
    "import sys\n",
    "import os\n",
    "import subprocess\n",
    "\n",
    "app_base_dir = '/home/spbproc/euso-spb-patt-reco-v1'\n",
    "if app_base_dir not in sys.path:\n",
    "    sys.path.append(app_base_dir)\n",
    "\n",
    "import re\n",
    "# import collections\n",
    "import numpy as np\n",
    "import psycopg2 as pg\n",
    "import pandas as pd\n",
    "import pandas.io.sql as psql\n",
    "import getpass\n",
    "import matplotlib as mpl\n",
    "\n",
    "mpl.rcParams['figure.dpi'] = 80\n",
    "\n",
    "import seaborn as sns\n",
    "import matplotlib.pyplot as plt\n",
    "%matplotlib inline\n",
    "from data_analysis_utils import *"
   ]
  },
  {
   "cell_type": "code",
   "execution_count": 2,
   "metadata": {
    "collapsed": true
   },
   "outputs": [],
   "source": [
    "con = con = pg.connect(dbname='eusospb_data', user='eusospb', host='localhost', password='1e20eVjemeuso')\n",
    "cur = con.cursor()"
   ]
  },
  {
   "cell_type": "code",
   "execution_count": 3,
   "metadata": {
    "collapsed": true
   },
   "outputs": [],
   "source": [
    "all_simu_events_df = psql.read_sql('SELECT * FROM spb_processing_v3.simu_event OFFSET 0 LIMIT 100000', con) "
   ]
  },
  {
   "cell_type": "code",
   "execution_count": 4,
   "metadata": {},
   "outputs": [
    {
     "data": {
      "text/html": [
       "<div>\n",
       "<style>\n",
       "    .dataframe thead tr:only-child th {\n",
       "        text-align: right;\n",
       "    }\n",
       "\n",
       "    .dataframe thead th {\n",
       "        text-align: left;\n",
       "    }\n",
       "\n",
       "    .dataframe tbody tr th {\n",
       "        vertical-align: top;\n",
       "    }\n",
       "</style>\n",
       "<table border=\"1\" class=\"dataframe\">\n",
       "  <thead>\n",
       "    <tr style=\"text-align: right;\">\n",
       "      <th></th>\n",
       "      <th>simu_event_id</th>\n",
       "      <th>simu2npy_pathname</th>\n",
       "      <th>npyconv_pathname</th>\n",
       "      <th>num_frames</th>\n",
       "      <th>eheader_num</th>\n",
       "      <th>eheader_run</th>\n",
       "      <th>eheader_runname</th>\n",
       "      <th>eheader_random_seed</th>\n",
       "      <th>eheader_status</th>\n",
       "      <th>edetector_numphotons</th>\n",
       "      <th>...</th>\n",
       "      <th>egeometry_radius</th>\n",
       "      <th>egeometry_opticsradius</th>\n",
       "      <th>eelectronics_numactivegtus</th>\n",
       "      <th>eelectronics_gtustart</th>\n",
       "      <th>eelectronics_gtuend</th>\n",
       "      <th>eelectronics_numcells</th>\n",
       "      <th>eelectronics_timegtu0</th>\n",
       "      <th>eelectronics_timefirstgtu</th>\n",
       "      <th>eelectronics_timelastgtu</th>\n",
       "      <th>eelectronics_gtulength</th>\n",
       "    </tr>\n",
       "  </thead>\n",
       "  <tbody>\n",
       "    <tr>\n",
       "      <th>0</th>\n",
       "      <td>1</td>\n",
       "      <td>/home/eusobg/EUSO-SPB/SPBDATA_processed/spb_si...</td>\n",
       "      <td>/home/spbproc/SPBDATA_processed/spb_simu/posz_...</td>\n",
       "      <td>12</td>\n",
       "      <td>8</td>\n",
       "      <td>1234</td>\n",
       "      <td>Simu</td>\n",
       "      <td>2041217648</td>\n",
       "      <td>0</td>\n",
       "      <td>56785</td>\n",
       "      <td>...</td>\n",
       "      <td>600.0</td>\n",
       "      <td>600.0</td>\n",
       "      <td>0</td>\n",
       "      <td>-1</td>\n",
       "      <td>0</td>\n",
       "      <td>1</td>\n",
       "      <td>211985.0</td>\n",
       "      <td>5.368710e+12</td>\n",
       "      <td>-1.000000e+20</td>\n",
       "      <td>2500.0</td>\n",
       "    </tr>\n",
       "    <tr>\n",
       "      <th>1</th>\n",
       "      <td>15855</td>\n",
       "      <td>/media/node15_data2/SPBDATA_processed/spb_simu...</td>\n",
       "      <td>/home/spbproc/SPBDATA_processed/spb_simu/posz_...</td>\n",
       "      <td>18</td>\n",
       "      <td>2</td>\n",
       "      <td>1234</td>\n",
       "      <td>Simu</td>\n",
       "      <td>2429170145</td>\n",
       "      <td>0</td>\n",
       "      <td>91963</td>\n",
       "      <td>...</td>\n",
       "      <td>600.0</td>\n",
       "      <td>600.0</td>\n",
       "      <td>1065456802</td>\n",
       "      <td>-1</td>\n",
       "      <td>0</td>\n",
       "      <td>1</td>\n",
       "      <td>356664.0</td>\n",
       "      <td>5.368710e+12</td>\n",
       "      <td>-1.000000e+20</td>\n",
       "      <td>2500.0</td>\n",
       "    </tr>\n",
       "    <tr>\n",
       "      <th>2</th>\n",
       "      <td>19850</td>\n",
       "      <td>/home/eusobg/EUSO-SPB/SPBDATA_processed/spb_si...</td>\n",
       "      <td>/home/spbproc/SPBDATA_processed/spb_simu/posz_...</td>\n",
       "      <td>18</td>\n",
       "      <td>30</td>\n",
       "      <td>1234</td>\n",
       "      <td>Simu</td>\n",
       "      <td>3193268778</td>\n",
       "      <td>0</td>\n",
       "      <td>49962</td>\n",
       "      <td>...</td>\n",
       "      <td>600.0</td>\n",
       "      <td>600.0</td>\n",
       "      <td>1071979659</td>\n",
       "      <td>-1</td>\n",
       "      <td>0</td>\n",
       "      <td>1</td>\n",
       "      <td>264612.0</td>\n",
       "      <td>5.368710e+12</td>\n",
       "      <td>-1.000000e+20</td>\n",
       "      <td>2500.0</td>\n",
       "    </tr>\n",
       "    <tr>\n",
       "      <th>3</th>\n",
       "      <td>22853</td>\n",
       "      <td>/home/eusobg/EUSO-SPB/SPBDATA_processed/spb_si...</td>\n",
       "      <td>/home/spbproc/SPBDATA_processed/spb_simu/posz_...</td>\n",
       "      <td>16</td>\n",
       "      <td>93</td>\n",
       "      <td>1234</td>\n",
       "      <td>Simu</td>\n",
       "      <td>1981966793</td>\n",
       "      <td>0</td>\n",
       "      <td>14190</td>\n",
       "      <td>...</td>\n",
       "      <td>600.0</td>\n",
       "      <td>600.0</td>\n",
       "      <td>0</td>\n",
       "      <td>-1</td>\n",
       "      <td>0</td>\n",
       "      <td>1</td>\n",
       "      <td>225297.0</td>\n",
       "      <td>5.368710e+12</td>\n",
       "      <td>-1.000000e+20</td>\n",
       "      <td>2500.0</td>\n",
       "    </tr>\n",
       "    <tr>\n",
       "      <th>4</th>\n",
       "      <td>11931</td>\n",
       "      <td>/media/node15_data2/SPBDATA_processed/spb_simu...</td>\n",
       "      <td>/home/spbproc/SPBDATA_processed/spb_simu/posz_...</td>\n",
       "      <td>18</td>\n",
       "      <td>65</td>\n",
       "      <td>1234</td>\n",
       "      <td>Simu</td>\n",
       "      <td>1338908387</td>\n",
       "      <td>0</td>\n",
       "      <td>9083</td>\n",
       "      <td>...</td>\n",
       "      <td>600.0</td>\n",
       "      <td>600.0</td>\n",
       "      <td>0</td>\n",
       "      <td>-1</td>\n",
       "      <td>0</td>\n",
       "      <td>1</td>\n",
       "      <td>130404.0</td>\n",
       "      <td>5.368710e+12</td>\n",
       "      <td>-1.000000e+20</td>\n",
       "      <td>2500.0</td>\n",
       "    </tr>\n",
       "  </tbody>\n",
       "</table>\n",
       "<p>5 rows × 96 columns</p>\n",
       "</div>"
      ],
      "text/plain": [
       "   simu_event_id                                  simu2npy_pathname  \\\n",
       "0              1  /home/eusobg/EUSO-SPB/SPBDATA_processed/spb_si...   \n",
       "1          15855  /media/node15_data2/SPBDATA_processed/spb_simu...   \n",
       "2          19850  /home/eusobg/EUSO-SPB/SPBDATA_processed/spb_si...   \n",
       "3          22853  /home/eusobg/EUSO-SPB/SPBDATA_processed/spb_si...   \n",
       "4          11931  /media/node15_data2/SPBDATA_processed/spb_simu...   \n",
       "\n",
       "                                    npyconv_pathname  num_frames  eheader_num  \\\n",
       "0  /home/spbproc/SPBDATA_processed/spb_simu/posz_...          12            8   \n",
       "1  /home/spbproc/SPBDATA_processed/spb_simu/posz_...          18            2   \n",
       "2  /home/spbproc/SPBDATA_processed/spb_simu/posz_...          18           30   \n",
       "3  /home/spbproc/SPBDATA_processed/spb_simu/posz_...          16           93   \n",
       "4  /home/spbproc/SPBDATA_processed/spb_simu/posz_...          18           65   \n",
       "\n",
       "   eheader_run eheader_runname  eheader_random_seed  eheader_status  \\\n",
       "0         1234            Simu           2041217648               0   \n",
       "1         1234            Simu           2429170145               0   \n",
       "2         1234            Simu           3193268778               0   \n",
       "3         1234            Simu           1981966793               0   \n",
       "4         1234            Simu           1338908387               0   \n",
       "\n",
       "   edetector_numphotons           ...            egeometry_radius  \\\n",
       "0                 56785           ...                       600.0   \n",
       "1                 91963           ...                       600.0   \n",
       "2                 49962           ...                       600.0   \n",
       "3                 14190           ...                       600.0   \n",
       "4                  9083           ...                       600.0   \n",
       "\n",
       "   egeometry_opticsradius  eelectronics_numactivegtus  eelectronics_gtustart  \\\n",
       "0                   600.0                           0                     -1   \n",
       "1                   600.0                  1065456802                     -1   \n",
       "2                   600.0                  1071979659                     -1   \n",
       "3                   600.0                           0                     -1   \n",
       "4                   600.0                           0                     -1   \n",
       "\n",
       "   eelectronics_gtuend  eelectronics_numcells  eelectronics_timegtu0  \\\n",
       "0                    0                      1               211985.0   \n",
       "1                    0                      1               356664.0   \n",
       "2                    0                      1               264612.0   \n",
       "3                    0                      1               225297.0   \n",
       "4                    0                      1               130404.0   \n",
       "\n",
       "   eelectronics_timefirstgtu  eelectronics_timelastgtu  eelectronics_gtulength  \n",
       "0               5.368710e+12             -1.000000e+20                  2500.0  \n",
       "1               5.368710e+12             -1.000000e+20                  2500.0  \n",
       "2               5.368710e+12             -1.000000e+20                  2500.0  \n",
       "3               5.368710e+12             -1.000000e+20                  2500.0  \n",
       "4               5.368710e+12             -1.000000e+20                  2500.0  \n",
       "\n",
       "[5 rows x 96 columns]"
      ]
     },
     "execution_count": 4,
     "metadata": {},
     "output_type": "execute_result"
    }
   ],
   "source": [
    "all_simu_events_df.head()"
   ]
  },
  {
   "cell_type": "code",
   "execution_count": 11,
   "metadata": {},
   "outputs": [
    {
     "data": {
      "text/plain": [
       "count    35781.000000\n",
       "mean        12.494173\n",
       "std          6.871975\n",
       "min          1.000000\n",
       "25%          6.000000\n",
       "50%         11.000000\n",
       "75%         18.000000\n",
       "max         42.000000\n",
       "Name: edetstatus_numgtu, dtype: float64"
      ]
     },
     "execution_count": 11,
     "metadata": {},
     "output_type": "execute_result"
    }
   ],
   "source": [
    "all_simu_events_df['edetstatus_numgtu'].describe()"
   ]
  },
  {
   "cell_type": "code",
   "execution_count": 12,
   "metadata": {},
   "outputs": [
    {
     "data": {
      "text/plain": [
       "<matplotlib.axes._subplots.AxesSubplot at 0x7ff5659ec588>"
      ]
     },
     "execution_count": 12,
     "metadata": {},
     "output_type": "execute_result"
    },
    {
     "data": {
      "image/png": "[encoded data removed]",
      "text/plain": [
       "<matplotlib.figure.Figure at 0x7ff565d1a240>"
      ]
     },
     "metadata": {},
     "output_type": "display_data"
    }
   ],
   "source": [
    "all_simu_events_df['edetstatus_numgtu'].hist()"
   ]
  },
  {
   "cell_type": "code",
   "execution_count": 44,
   "metadata": {
    "scrolled": false
   },
   "outputs": [
    {
     "name": "stdout",
     "output_type": "stream",
     "text": [
      "/home/spbproc/SPBDATA_processed/spb_simu_kenji/slope1.5/posz_24750000.00/energy_4.63e+11/SPB0mm_b0.5_ev100_h24.75km_A17.7_slope1.5_S0073/simu2npy/ev_92_mc_1__signals.npy\n"
     ]
    },
    {
     "data": {
      "image/png": "[encoded data removed]",
      "text/plain": [
       "<matplotlib.figure.Figure at 0x7ff566169908>"
      ]
     },
     "metadata": {},
     "output_type": "display_data"
    },
    {
     "name": "stdout",
     "output_type": "stream",
     "text": [
      "/home/spbproc/SPBDATA_processed/spb_simu/posz_24000000.00/energy_6.85e+12/simu.2017-07-22-20h27m06s/simu2npy/ev_62_mc_1__signals.npy\n"
     ]
    },
    {
     "data": {
      "image/png": "[encoded data removed]",
      "text/plain": [
       "<matplotlib.figure.Figure at 0x7ff5668dbf98>"
      ]
     },
     "metadata": {},
     "output_type": "display_data"
    },
    {
     "name": "stdout",
     "output_type": "stream",
     "text": [
      "/home/spbproc/SPBDATA_processed/spb_simu_kenji/slope1.5/posz_24750000.00/energy_4.67e+11/SPB0mm_b0.5_ev100_h24.75km_A17.7_slope1.5_S0070/simu2npy/ev_71_mc_1__signals.npy\n"
     ]
    },
    {
     "data": {
      "image/png": "[encoded data removed]",
      "text/plain": [
       "<matplotlib.figure.Figure at 0x7ff5660bad30>"
      ]
     },
     "metadata": {},
     "output_type": "display_data"
    },
    {
     "name": "stdout",
     "output_type": "stream",
     "text": [
      "/home/spbproc/SPBDATA_processed/spb_simu_kenji/slope1.5/posz_24750000.00/energy_4.67e+11/SPB_b0.5_ev100_h24.75km_A17.7_slope1.5_S0070/simu2npy/ev_71_mc_1__signals.npy\n"
     ]
    },
    {
     "data": {
      "image/png": "[encoded data removed]",
      "text/plain": [
       "<matplotlib.figure.Figure at 0x7ff566a7e908>"
      ]
     },
     "metadata": {},
     "output_type": "display_data"
    },
    {
     "name": "stdout",
     "output_type": "stream",
     "text": [
      "/home/spbproc/SPBDATA_processed/spb_simu_kenji/slope1.5/posz_24750000.00/energy_4.69e+11/SPB_b0.5_ev100_h24.75km_A17.7_slope1.5_S0083/simu2npy/ev_99_mc_1__signals.npy\n"
     ]
    },
    {
     "data": {
      "image/png": "[encoded data removed]",
      "text/plain": [
       "<matplotlib.figure.Figure at 0x7ff5625129b0>"
      ]
     },
     "metadata": {},
     "output_type": "display_data"
    },
    {
     "name": "stdout",
     "output_type": "stream",
     "text": [
      "/home/spbproc/SPBDATA_processed/spb_simu/posz_18000000.00/energy_6.67e+12/simu.2017-07-23-05h40m12s/simu2npy/ev_9_mc_1__signals.npy\n"
     ]
    },
    {
     "data": {
      "image/png": "[encoded data removed]",
      "text/plain": [
       "<matplotlib.figure.Figure at 0x7ff56662e470>"
      ]
     },
     "metadata": {},
     "output_type": "display_data"
    },
    {
     "name": "stdout",
     "output_type": "stream",
     "text": [
      "/home/spbproc/SPBDATA_processed/spb_simu_kenji/slope1.5/posz_24750000.00/energy_1.52e+12/SPB0mm_b0.5_ev100_h24.75km_A17.7_slope1.5_S0153/simu2npy/ev_20_mc_1__signals.npy\n"
     ]
    },
    {
     "data": {
      "image/png": "[encoded data removed]",
      "text/plain": [
       "<matplotlib.figure.Figure at 0x7ff566254470>"
      ]
     },
     "metadata": {},
     "output_type": "display_data"
    },
    {
     "name": "stdout",
     "output_type": "stream",
     "text": [
      "/home/spbproc/SPBDATA_processed/spb_simu_kenji/slope1.5/posz_24750000.00/energy_2.52e+12/SPB0mm_b0.5_ev100_h24.75km_A17.7_slope1.5_S0034/simu2npy/ev_54_mc_1__signals.npy\n"
     ]
    },
    {
     "data": {
      "image/png": "[encoded data removed]",
      "text/plain": [
       "<matplotlib.figure.Figure at 0x7ff565adc198>"
      ]
     },
     "metadata": {},
     "output_type": "display_data"
    },
    {
     "name": "stdout",
     "output_type": "stream",
     "text": [
      "/home/spbproc/SPBDATA_processed/spb_simu_kenji/slope1.5/posz_24750000.00/energy_2.52e+12/SPB0mm_b0.5_ev100_h24.75km_A17.7_slope1.5_S0034/simu2npy/ev_59_mc_1__signals.npy\n"
     ]
    },
    {
     "data": {
      "image/png": "[encoded data removed]",
      "text/plain": [
       "<matplotlib.figure.Figure at 0x7ff5657c0c88>"
      ]
     },
     "metadata": {},
     "output_type": "display_data"
    },
    {
     "name": "stdout",
     "output_type": "stream",
     "text": [
      "/home/spbproc/SPBDATA_processed/spb_simu_kenji/slope1.5/posz_24750000.00/energy_2.52e+12/SPB0mm_b0.5_ev100_h24.75km_A17.7_slope1.5_S0034/simu2npy/ev_87_mc_1__signals.npy\n"
     ]
    },
    {
     "data": {
      "image/png": "[encoded data removed]",
      "text/plain": [
       "<matplotlib.figure.Figure at 0x7ff5663d0a58>"
      ]
     },
     "metadata": {},
     "output_type": "display_data"
    },
    {
     "name": "stdout",
     "output_type": "stream",
     "text": [
      "/home/spbproc/SPBDATA_processed/spb_simu/posz_18000000.00/energy_4.77e+12/simu.2017-07-19-13h49m31s/simu2npy/ev_9_mc_1__signals.npy\n"
     ]
    },
    {
     "data": {
      "image/png": "[encoded data removed]",
      "text/plain": [
       "<matplotlib.figure.Figure at 0x7ff5664faef0>"
      ]
     },
     "metadata": {},
     "output_type": "display_data"
    },
    {
     "name": "stdout",
     "output_type": "stream",
     "text": [
      "/home/spbproc/SPBDATA_processed/spb_simu_kenji/slope1.5/posz_24750000.00/energy_2.52e+12/SPB_b0.5_ev100_h24.75km_A17.7_slope1.5_S0034/simu2npy/ev_59_mc_1__signals.npy\n"
     ]
    },
    {
     "data": {
      "image/png": "[encoded data removed]",
      "text/plain": [
       "<matplotlib.figure.Figure at 0x7ff5624fa710>"
      ]
     },
     "metadata": {},
     "output_type": "display_data"
    }
   ],
   "source": [
    "for i,f in enumerate(all_simu_events_df[all_simu_events_df['edetstatus_numgtu'] > 30]['npyconv_pathname'].iloc[40:]):\n",
    "    simu_npy_pathname = acqnpy2simunpy(f)\n",
    "    arr = np.load(simu_npy_pathname)\n",
    "    arr_max_x_y = np.max(arr[:],axis=0)\n",
    "    arr_max_gtu_y = np.max(arr[:],axis=2)\n",
    "    arr_max_gtu_x = np.max(arr[:],axis=1)\n",
    "    print(simu_npy_pathname)\n",
    "    fig, axs = plt.subplots(1,3)\n",
    "    axs[0].imshow(arr_max_x_y)\n",
    "    axs[1].imshow(arr_max_gtu_x)\n",
    "    axs[2].imshow(arr_max_gtu_y)\n",
    "    plt.show()\n",
    "    if i > 10: break"
   ]
  },
  {
   "cell_type": "code",
   "execution_count": null,
   "metadata": {
    "collapsed": true
   },
   "outputs": [],
   "source": []
  }
 ],
 "metadata": {
  "kernelspec": {
   "display_name": "Python 3",
   "language": "python",
   "name": "python3"
  },
  "language_info": {
   "codemirror_mode": {
    "name": "ipython",
    "version": 3
   },
   "file_extension": ".py",
   "mimetype": "text/x-python",
   "name": "python",
   "nbconvert_exporter": "python",
   "pygments_lexer": "ipython3",
   "version": "3.5.2"
  }
 },
 "nbformat": 4,
 "nbformat_minor": 2
}
