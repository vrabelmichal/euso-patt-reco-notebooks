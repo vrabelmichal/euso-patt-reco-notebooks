{
 "cells": [
  {
   "cell_type": "markdown",
   "metadata": {},
   "source": [
    "results in seem to be wrong ver4_machine_learning_utah_classification_201906122.ipynb"
   ]
  },
  {
   "cell_type": "code",
   "execution_count": 1,
   "metadata": {},
   "outputs": [],
   "source": [
    "import sys\n",
    "import os\n",
    "import subprocess\n",
    "import re\n",
    "import numpy as np\n",
    "import psycopg2 as pg\n",
    "import pandas as pd\n",
    "import pandas.io.sql as psql\n",
    "import getpass\n",
    "import matplotlib as mpl\n",
    "import argparse\n",
    "import glob\n",
    "import traceback\n",
    "import hashlib\n",
    "import math\n",
    "import collections\n",
    "import functools\n",
    "\n",
    "from statsmodels.stats.proportion import proportion_confint as statmodels_proportion_confint\n",
    "\n",
    "# import sklearn.preprocessing\n",
    "# import sklearn.feature_selection\n",
    "# import sklearn.ensemble \n",
    "# import sklearn.neural_network\n",
    "# import sklearn.model_selection\n",
    "# import sklearn.metrics\n",
    "# import sklearn.pipeline\n",
    "from sklearn.externals import joblib\n",
    "\n",
    "mpl.rcParams['figure.dpi'] = 80\n",
    "\n",
    "import matplotlib.pyplot as plt\n",
    "import seaborn as sns\n",
    "import IPython.display\n",
    "from slugify import slugify"
   ]
  },
  {
   "cell_type": "code",
   "execution_count": 2,
   "metadata": {},
   "outputs": [
    {
     "name": "stdout",
     "output_type": "stream",
     "text": [
      "Welcome to JupyROOT 6.13/02\n"
     ]
    }
   ],
   "source": [
    "app_base_dir = '/home/spbproc/euso-spb-patt-reco-v1'\n",
    "if app_base_dir not in sys.path:\n",
    "    sys.path.append(app_base_dir)\n",
    "\n",
    "import event_processing_v3\n",
    "import event_processing_v4\n",
    "import postgresql_v3_event_storage\n",
    "import dataset_query_functions_v3\n",
    "\n",
    "import tool.acqconv\n",
    "from data_analysis_utils import *\n",
    "from data_analysis_utils_dataframes import *\n",
    "from data_analysis_utils_performance import *\n",
    "# import supervised_classification as supc    "
   ]
  },
  {
   "cell_type": "code",
   "execution_count": 3,
   "metadata": {},
   "outputs": [],
   "source": [
    "pd.set_option('display.max_columns', 500)\n",
    "pd.set_option('display.max_colwidth', -1)"
   ]
  },
  {
   "cell_type": "code",
   "execution_count": 4,
   "metadata": {},
   "outputs": [],
   "source": [
    "# inverse_means_map = np.load('/home/spbproc/euso-spb-patt-reco-v1/resources/inverse_flat_average_directions_4m_flipud.npy')"
   ]
  },
  {
   "cell_type": "code",
   "execution_count": 5,
   "metadata": {},
   "outputs": [],
   "source": [
    "classification_id = '201906122'\n",
    "model_data_snippets_dir = 'ver4_machine_learning_w_labeled_flight_' + classification_id\n",
    "utah_file_analysis_snippets_dir = 'utah_events_directory_analysis'\n",
    "data_snippets_dir = 'ver4_machine_learning_utah_classification_' + classification_id\n",
    "\n",
    "os.makedirs(data_snippets_dir, exist_ok=True)"
   ]
  },
  {
   "cell_type": "markdown",
   "metadata": {},
   "source": [
    "## Selecting the data"
   ]
  },
  {
   "cell_type": "code",
   "execution_count": 6,
   "metadata": {},
   "outputs": [],
   "source": [
    "event_processing_cls = event_processing_v4.EventProcessingV4\n",
    "event_v3_storage_provider_utah = dataset_query_functions_v3.build_event_v3_storage_provider(\n",
    "    event_storage_provider_config_file=os.path.join(app_base_dir,'config.ini'), \n",
    "    table_names_version='ver4',\n",
    "    event_storage_class=postgresql_v3_event_storage.PostgreSqlEventV3StorageProvider,\n",
    "    event_processing_class=event_processing_cls,\n",
    "    readonly=False,\n",
    "    schema_name_overwrite = 'miso2_2_spb_processing_v4'\n",
    ")\n",
    "\n",
    "query_functions_utah = dataset_query_functions_v3.Ver3DatasetQueryFunctions(event_v3_storage_provider_utah)"
   ]
  },
  {
   "cell_type": "markdown",
   "metadata": {},
   "source": [
    "### Columns"
   ]
  },
  {
   "cell_type": "code",
   "execution_count": 7,
   "metadata": {},
   "outputs": [
    {
     "name": "stdout",
     "output_type": "stream",
     "text": [
      "ver4_machine_learning_w_labeled_flight_201906122/rfecv_selector_on_extra_trees__column_names.txt\n"
     ]
    }
   ],
   "source": [
    "rfecv_selector_on_extra_trees__column_names = []\n",
    "\n",
    "columns_list_file_pathname = os.path.join(model_data_snippets_dir, 'rfecv_selector_on_extra_trees__column_names.txt')\n",
    "print(columns_list_file_pathname)\n",
    "with open(columns_list_file_pathname, 'r') as columns_list_file:\n",
    "    rfecv_selector_on_extra_trees__column_names = columns_list_file.read().splitlines()"
   ]
  },
  {
   "cell_type": "code",
   "execution_count": 8,
   "metadata": {},
   "outputs": [
    {
     "name": "stdout",
     "output_type": "stream",
     "text": [
      "ver4_machine_learning_w_labeled_flight_201906122/rfecv_selector_on_extra_trees__column_names__special.txt\n"
     ]
    }
   ],
   "source": [
    "rfecv_selector_on_extra_trees__column_names__special = []\n",
    "\n",
    "special_columns_list_file_pathname = os.path.join(model_data_snippets_dir, 'rfecv_selector_on_extra_trees__column_names__special.txt')\n",
    "print(special_columns_list_file_pathname)\n",
    "with open(special_columns_list_file_pathname, 'r') as special_columns_list_file:\n",
    "    rfecv_selector_on_extra_trees__column_names__special = special_columns_list_file.read().splitlines()"
   ]
  },
  {
   "cell_type": "code",
   "execution_count": 9,
   "metadata": {},
   "outputs": [
    {
     "data": {
      "text/plain": [
       "[]"
      ]
     },
     "execution_count": 9,
     "metadata": {},
     "output_type": "execute_result"
    }
   ],
   "source": [
    "# This should be empty for now\n",
    "rfecv_selector_on_extra_trees__column_names__special"
   ]
  },
  {
   "cell_type": "code",
   "execution_count": 10,
   "metadata": {},
   "outputs": [
    {
     "name": "stdout",
     "output_type": "stream",
     "text": [
      "miso2_2_spb_processing_v4.event\n",
      "\t- event_id\n",
      "\t- source_file_acquisition_full\n",
      "\t- source_file_trigger_full\n",
      "\t- source_file_acquisition\n",
      "\t- source_file_trigger\n",
      "\t- global_gtu\n",
      "\t- packet_id\n",
      "\t- gtu_in_packet\n",
      "\t- num_gtu\n",
      "\n",
      "miso2_2_spb_processing_v4.event_trg_box_per_gtu\n",
      "\t- max\n",
      "\t- mean\n",
      "\t- mean_gz\n",
      "\n",
      "miso2_2_spb_processing_v4.event_trg_pmt_per_gtu\n",
      "\t- max\n",
      "\t- mean\n",
      "\t- mean_gz\n",
      "\n",
      "miso2_2_spb_processing_v4.event_trg_ec_per_gtu\n",
      "\t- mean\n",
      "\t- mean_gz\n",
      "\n",
      "miso2_2_spb_processing_v4.event_trg_x_y_clusters\n",
      "\t- sizes_max\n",
      "\t- max_size_clu_width\n",
      "\t- max_size_clu_height\n",
      "\t- max_peak_clu_width\n",
      "\t- max_peak_clu_height\n",
      "\t- max_peak_clu_size\n",
      "\n",
      "miso2_2_spb_processing_v4.event_trg_gtu_y_clusters\n",
      "\t- max_peak_clu_height\n",
      "\n",
      "miso2_2_spb_processing_v4.event_orig_x_y\n",
      "\t- sum\n",
      "\t- max\n",
      "\t- mean\n",
      "\t- mean_gz\n",
      "\n",
      "miso2_2_spb_processing_v4.event_proc1_x_y_clusters\n",
      "\t- count\n",
      "\t- sizes_min\n",
      "\t- sizes_max\n",
      "\t- clu_areas_max\n",
      "\t- max_size_clu_width\n",
      "\t- max_peak_clu_width\n",
      "\t- max_peak_clu_size\n",
      "\n",
      "miso2_2_spb_processing_v4.event_proc2_x_y_clusters\n",
      "\t- sizes_min\n",
      "\t- sizes_max\n",
      "\t- clu_areas_max\n",
      "\t- max_peak_clu_width\n",
      "\t- max_peak_clu_size\n",
      "\n",
      "miso2_2_spb_processing_v4.event_proc3_x_y_clusters\n",
      "\t- count\n",
      "\t- sizes_max\n",
      "\t- clu_areas_max\n",
      "\t- max_size_clu_width\n",
      "\t- max_size_clu_height\n",
      "\t- max_peak_clu_width\n",
      "\t- max_peak_clu_height\n",
      "\t- max_peak_clu_size\n",
      "\n",
      "miso2_2_spb_processing_v4.event_proc2_gtu_x_clusters\n",
      "\t- sizes_min\n",
      "\t- sizes_max\n",
      "\t- max_peak_clu_size\n",
      "\n",
      "miso2_2_spb_processing_v4.event_proc3_gtu_x_clusters\n",
      "\t- sizes_max\n",
      "\t- max_peak_clu_size\n",
      "\n",
      "miso2_2_spb_processing_v4.event_proc1_gtu_y_clusters\n",
      "\t- sizes_min\n",
      "\t- sizes_max\n",
      "\t- clu_areas_max\n",
      "\t- max_size_clu_height\n",
      "\t- max_peak_clu_height\n",
      "\t- max_peak_clu_size\n",
      "\n",
      "miso2_2_spb_processing_v4.event_proc2_gtu_y_clusters\n",
      "\t- sizes_max\n",
      "\t- max_peak_clu_size\n",
      "\n",
      "miso2_2_spb_processing_v4.event_proc3_gtu_y_clusters\n",
      "\t- sizes_max\n",
      "\t- max_peak_clu_width\n",
      "\t- max_peak_clu_size\n",
      "\n",
      "miso2_2_spb_processing_v4.event_bg_x_y\n",
      "\t- sum\n",
      "\t- mean\n",
      "\t- mean_gz\n",
      "\n",
      "miso2_2_spb_processing_v4.event_alt1_gtu_y_clusters\n",
      "\t- clu_areas_max\n",
      "\t- max_size_clu_height\n",
      "\t- max_peak_clu_height\n",
      "\n",
      "miso2_2_spb_processing_v4.event_trg\n",
      "\t- max\n",
      "\n",
      "miso2_2_spb_processing_v4.event_bg\n",
      "\t- sum\n",
      "\t- mean\n",
      "\t- mean_gz\n",
      "\n",
      "miso2_2_spb_processing_v4.event_orig\n",
      "\t- max\n",
      "\t- mean\n",
      "\t- mean_gz\n",
      "\n",
      "miso2_2_spb_processing_v4.event_trg_x_y_hough_peak_thr1\n",
      "\t- major_line_rho\n",
      "\t- line_clusters_sizes_max\n",
      "\t- line_clusters_clu_widths_max\n",
      "\t- line_clusters_max_area_clu_width\n",
      "\t- line_clusters_max_area_clu_height\n",
      "\t- line_clusters_max_size_clu_width\n",
      "\t- line_clusters_max_size_clu_height\n",
      "\t- line_clusters_max_sum_clu_width\n",
      "\t- line_clusters_max_sum_clu_height\n",
      "\t- line_clusters_max_peak_clu_width\n",
      "\t- line_clusters_max_peak_clu_height\n",
      "\t- line_clusters_max_area_clu_size\n",
      "\t- line_clusters_max_peak_clu_size\n",
      "\t- line_clusters_max_sum_clu_size\n",
      "\n",
      "miso2_2_spb_processing_v4.event_trg_x_y_hough_peak_thr2\n",
      "\t- major_line_rho\n",
      "\t- line_clusters_clu_widths_max\n",
      "\t- line_clusters_max_area_clu_width\n",
      "\t- line_clusters_max_area_clu_height\n",
      "\t- line_clusters_max_size_clu_width\n",
      "\t- line_clusters_max_size_clu_height\n",
      "\t- line_clusters_max_sum_clu_width\n",
      "\t- line_clusters_max_sum_clu_height\n",
      "\t- line_clusters_max_peak_clu_width\n",
      "\t- line_clusters_max_peak_clu_height\n",
      "\n",
      "miso2_2_spb_processing_v4.event_trg_x_y_hough_peak_thr3\n",
      "\t- major_line_rho\n",
      "\n",
      "miso2_2_spb_processing_v4.event_trg_gtu_x_hough_peak_thr1\n",
      "\t- major_line_rho\n",
      "\t- line_clusters_clu_widths_max\n",
      "\t- line_clusters_max_area_clu_width\n",
      "\t- line_clusters_max_size_clu_width\n",
      "\t- line_clusters_max_peak_clu_width\n",
      "\n",
      "miso2_2_spb_processing_v4.event_trg_gtu_x_hough_peak_thr2\n",
      "\t- major_line_rho\n",
      "\n",
      "miso2_2_spb_processing_v4.event_trg_gtu_x_hough_peak_thr3\n",
      "\t- major_line_rho\n",
      "\n",
      "miso2_2_spb_processing_v4.event_trg_gtu_y_hough_peak_thr1\n",
      "\t- line_clusters_clu_widths_max\n",
      "\t- line_clusters_clu_heights_max\n",
      "\t- line_clusters_max_area_clu_width\n",
      "\t- line_clusters_max_area_clu_height\n",
      "\t- line_clusters_max_size_clu_width\n",
      "\t- line_clusters_max_size_clu_height\n",
      "\t- line_clusters_max_sum_clu_width\n",
      "\t- line_clusters_max_sum_clu_height\n",
      "\t- line_clusters_max_peak_clu_width\n",
      "\t- line_clusters_max_peak_clu_height\n",
      "\n",
      "miso2_2_spb_processing_v4.event_trg_gtu_y_hough_peak_thr2\n",
      "\t- major_line_rho\n",
      "\n",
      "miso2_2_spb_processing_v4.event_trg_gtu_y_hough_peak_thr3\n",
      "\t- major_line_rho\n",
      "\n",
      "miso2_2_spb_processing_v4.event_proc1_x_y_hough_peak_thr1\n",
      "\t- line_clusters_count\n",
      "\t- line_clusters_sizes_max\n",
      "\t- line_clusters_clu_widths_max\n",
      "\t- line_clusters_clu_areas_max\n",
      "\t- line_clusters_max_area_clu_width\n",
      "\t- line_clusters_max_area_clu_height\n",
      "\t- line_clusters_max_size_clu_width\n",
      "\t- line_clusters_max_size_clu_height\n",
      "\t- line_clusters_max_sum_clu_width\n",
      "\t- line_clusters_max_sum_clu_height\n",
      "\t- line_clusters_max_peak_clu_width\n",
      "\t- line_clusters_max_peak_clu_height\n",
      "\t- line_clusters_max_area_clu_size\n",
      "\t- line_clusters_max_peak_clu_size\n",
      "\t- line_clusters_max_sum_clu_size\n",
      "\n",
      "miso2_2_spb_processing_v4.event_proc1_x_y_hough_peak_thr2\n",
      "\t- line_clusters_count\n",
      "\t- line_clusters_sizes_max\n",
      "\t- line_clusters_clu_widths_max\n",
      "\t- line_clusters_max_area_clu_width\n",
      "\t- line_clusters_max_size_clu_width\n",
      "\t- line_clusters_max_sum_clu_width\n",
      "\t- line_clusters_max_peak_clu_width\n",
      "\t- line_clusters_max_area_clu_size\n",
      "\n",
      "miso2_2_spb_processing_v4.event_proc2_x_y_hough_peak_thr1\n",
      "\t- major_line_phi\n",
      "\t- line_clusters_count\n",
      "\t- line_clusters_sizes_max\n",
      "\t- line_clusters_clu_widths_max\n",
      "\t- line_clusters_clu_heights_max\n",
      "\t- line_clusters_clu_areas_max\n",
      "\t- line_clusters_max_area_clu_width\n",
      "\t- line_clusters_max_area_clu_height\n",
      "\t- line_clusters_max_size_clu_width\n",
      "\t- line_clusters_max_sum_clu_width\n",
      "\t- line_clusters_max_peak_clu_width\n",
      "\t- line_clusters_max_area_clu_size\n",
      "\t- line_clusters_max_peak_clu_size\n",
      "\t- line_clusters_max_sum_clu_size\n",
      "\n",
      "miso2_2_spb_processing_v4.event_proc2_x_y_hough_peak_thr2\n",
      "\t- major_line_phi\n",
      "\t- line_clusters_count\n",
      "\t- line_clusters_clu_heights_max\n",
      "\n",
      "miso2_2_spb_processing_v4.event_proc2_x_y_hough_peak_thr3\n",
      "\t- major_line_coord_0_x\n",
      "\t- major_line_phi\n",
      "\t- line_clusters_count\n",
      "\t- line_clusters_clu_heights_max\n",
      "\n",
      "miso2_2_spb_processing_v4.event_proc3_x_y_hough_peak_thr1\n",
      "\t- line_clusters_count\n",
      "\t- line_clusters_sizes_max\n",
      "\t- line_clusters_clu_widths_max\n",
      "\t- line_clusters_clu_heights_max\n",
      "\t- line_clusters_max_area_clu_width\n",
      "\t- line_clusters_max_size_clu_width\n",
      "\t- line_clusters_max_sum_clu_width\n",
      "\t- line_clusters_max_peak_clu_width\n",
      "\t- line_clusters_max_area_clu_size\n",
      "\t- line_clusters_max_peak_clu_size\n",
      "\t- line_clusters_max_sum_clu_size\n",
      "\n",
      "miso2_2_spb_processing_v4.event_proc3_x_y_hough_peak_thr2\n",
      "\t- line_clusters_count\n",
      "\t- line_clusters_clu_heights_max\n",
      "\n",
      "miso2_2_spb_processing_v4.event_proc3_x_y_hough_peak_thr3\n",
      "\t- line_clusters_count\n",
      "\n",
      "miso2_2_spb_processing_v4.event_proc1_gtu_x_hough_peak_thr1\n",
      "\t- major_line_rho\n",
      "\n",
      "miso2_2_spb_processing_v4.event_proc1_gtu_x_hough_peak_thr2\n",
      "\t- major_line_rho\n",
      "\n",
      "miso2_2_spb_processing_v4.event_proc1_gtu_x_hough_peak_thr3\n",
      "\t- major_line_rho\n",
      "\n",
      "miso2_2_spb_processing_v4.event_proc2_gtu_x_hough_peak_thr1\n",
      "\t- major_line_rho\n",
      "\n",
      "miso2_2_spb_processing_v4.event_proc2_gtu_x_hough_peak_thr2\n",
      "\t- major_line_rho\n",
      "\n",
      "miso2_2_spb_processing_v4.event_proc2_gtu_x_hough_peak_thr3\n",
      "\t- major_line_rho\n",
      "\n",
      "miso2_2_spb_processing_v4.event_proc3_gtu_x_hough_peak_thr1\n",
      "\t- line_clusters_count\n",
      "\n",
      "miso2_2_spb_processing_v4.event_proc2_gtu_y_hough_peak_thr1\n",
      "\t- line_clusters_sizes_max\n",
      "\n",
      "miso2_2_spb_processing_v4.event_proc2_gtu_y_hough_peak_thr2\n",
      "\t- major_line_rho\n",
      "\n",
      "miso2_2_spb_processing_v4.event_proc3_gtu_y_hough_peak_thr1\n",
      "\t- line_clusters_sizes_max\n",
      "\t- line_clusters_clu_widths_max\n",
      "\t- line_clusters_max_size_clu_width\n",
      "\t- line_clusters_max_sum_clu_width\n",
      "\t- line_clusters_max_sum_clu_size\n",
      "\n",
      "miso2_2_spb_processing_v4.event_alt1_x_y_hough_peak_thr1\n",
      "\t- line_clusters_count\n",
      "\t- line_clusters_sizes_max\n",
      "\t- line_clusters_clu_widths_max\n",
      "\t- line_clusters_clu_areas_max\n",
      "\t- line_clusters_max_area_clu_width\n",
      "\t- line_clusters_max_area_clu_height\n",
      "\t- line_clusters_max_size_clu_width\n",
      "\t- line_clusters_max_size_clu_height\n",
      "\t- line_clusters_max_sum_clu_width\n",
      "\t- line_clusters_max_sum_clu_height\n",
      "\t- line_clusters_max_peak_clu_width\n",
      "\t- line_clusters_max_area_clu_size\n",
      "\t- line_clusters_max_peak_clu_size\n",
      "\t- line_clusters_max_sum_clu_size\n",
      "\n",
      "miso2_2_spb_processing_v4.event_alt1_x_y_hough_peak_thr2\n",
      "\t- line_clusters_count\n",
      "\n",
      "miso2_2_spb_processing_v4.event_alt1_gtu_x_hough_peak_thr1\n",
      "\t- major_line_rho\n",
      "\n",
      "miso2_2_spb_processing_v4.event_alt1_gtu_x_hough_peak_thr2\n",
      "\t- major_line_rho\n",
      "\n",
      "miso2_2_spb_processing_v4.event_alt1_gtu_x_hough_peak_thr3\n",
      "\t- major_line_rho\n",
      "\n",
      "------------------------------------------------------------\n",
      "211\n"
     ]
    }
   ],
   "source": [
    "utah_columns_for_analysis_dict = query_functions_utah.get_columns_for_classification_dict__by_excluding(\n",
    "    excluded_columns_re_list=('^.+$',),\n",
    "    default_excluded_columns_re_list=[],\n",
    "    included_columns_re_list=[('^$','source_file_(acquisition|trigger)(_full)?|global_gtu|packet_id|gtu_in_packet|event_id|num_gtu'),] + rfecv_selector_on_extra_trees__column_names\n",
    ")\n",
    "\n",
    "classification_utah_columns_for_analysis_dict = query_functions_utah.get_columns_for_classification_dict__by_excluding(\n",
    "    excluded_columns_re_list=('^.+$',),\n",
    "    default_excluded_columns_re_list=[],\n",
    "    included_columns_re_list=rfecv_selector_on_extra_trees__column_names\n",
    ")\n",
    "\n",
    "print_columns_dict(utah_columns_for_analysis_dict)"
   ]
  },
  {
   "cell_type": "markdown",
   "metadata": {},
   "source": [
    "WARNING: not selecting NULL trg lines"
   ]
  },
  {
   "cell_type": "markdown",
   "metadata": {},
   "source": [
    "### Constructing the query"
   ]
  },
  {
   "cell_type": "code",
   "execution_count": 11,
   "metadata": {},
   "outputs": [],
   "source": [
    "current_columns_for_analysis_dict = utah_columns_for_analysis_dict\n",
    "\n",
    "utah_select_clause_str, utah_tables_list = \\\n",
    "    query_functions_utah.get_query_clauses__select({\n",
    "    **current_columns_for_analysis_dict,\n",
    "})\n",
    "\n",
    "utah_clauses_str = \\\n",
    "    query_functions_utah.get_query_clauses__join(utah_tables_list)\n",
    "\n",
    "utah_source_data_type_num = 2\n",
    "\n",
    "utah_where_clauses_str = ''\n",
    "# ''' \n",
    "#     AND abs(gtu_in_packet-42) < 20\n",
    "#     AND {database_schema_name}.event_orig_x_y.count_nonzero > 256*6\n",
    "# '''\n",
    "\n",
    "for table, cols_list in classification_utah_columns_for_analysis_dict.items():\n",
    "    for col in cols_list:\n",
    "        utah_where_clauses_str += ' AND {}.{} IS NOT NULL\\n'.format(table, col)\n",
    "\n",
    "utah_events_selection_query = query_functions_utah.get_events_selection_query_plain(\n",
    "    source_data_type_num=utah_source_data_type_num,\n",
    "    select_additional=utah_select_clause_str, \n",
    "    join_additional=utah_clauses_str,\n",
    "    where_additional=utah_where_clauses_str,\n",
    "    order_by='{data_table_name}.event_id', \n",
    "    offset=0, limit=800000,\n",
    "    base_select='')"
   ]
  },
  {
   "cell_type": "code",
   "execution_count": 12,
   "metadata": {
    "scrolled": true
   },
   "outputs": [],
   "source": [
    "# print(utah_events_selection_query)"
   ]
  },
  {
   "cell_type": "code",
   "execution_count": 13,
   "metadata": {
    "scrolled": false
   },
   "outputs": [],
   "source": [
    "utah_df = psql.read_sql(utah_events_selection_query, event_v3_storage_provider_utah.connection)"
   ]
  },
  {
   "cell_type": "code",
   "execution_count": 14,
   "metadata": {
    "scrolled": true
   },
   "outputs": [
    {
     "data": {
      "text/plain": [
       "373622"
      ]
     },
     "execution_count": 14,
     "metadata": {},
     "output_type": "execute_result"
    }
   ],
   "source": [
    "len(utah_df)"
   ]
  },
  {
   "cell_type": "code",
   "execution_count": null,
   "metadata": {},
   "outputs": [],
   "source": [
    "utah_df.head()"
   ]
  },
  {
   "cell_type": "code",
   "execution_count": null,
   "metadata": {
    "scrolled": true
   },
   "outputs": [],
   "source": [
    "utah_df[rfecv_selector_on_extra_trees__column_names].head()"
   ]
  },
  {
   "cell_type": "code",
   "execution_count": null,
   "metadata": {},
   "outputs": [],
   "source": [
    "np.count_nonzero(utah_df['event_id'].isnull())"
   ]
  },
  {
   "cell_type": "code",
   "execution_count": null,
   "metadata": {},
   "outputs": [],
   "source": [
    "utah_df['had_nan_fields'] = utah_df[rfecv_selector_on_extra_trees__column_names].isnull().any(axis=1)"
   ]
  },
  {
   "cell_type": "code",
   "execution_count": null,
   "metadata": {},
   "outputs": [],
   "source": [
    "np.count_nonzero(utah_df['had_nan_fields'])"
   ]
  },
  {
   "cell_type": "code",
   "execution_count": null,
   "metadata": {},
   "outputs": [],
   "source": [
    "utah_df_nonan = utah_df[~utah_df['had_nan_fields']]"
   ]
  },
  {
   "cell_type": "code",
   "execution_count": null,
   "metadata": {},
   "outputs": [],
   "source": [
    "len(utah_df_nonan)"
   ]
  },
  {
   "cell_type": "code",
   "execution_count": null,
   "metadata": {},
   "outputs": [],
   "source": [
    "# TODO\n",
    "# SELECT COUNT(*) FROM spb_processing_v4_flatmap.event JOIN spb_processing_v4_flatmap.event_orig_x_y USING(event_id) WHERE source_data_type_num = 1 AND abs(gtu_in_packet-42) < 20 AND spb_processing_v4_flatmap.event_orig_x_y.count_nonzero > 256*6 LIMIT 5;\n",
    "# SELECT COUNT( DISTINCT (source_file_acquisition, packet_id)) FROM spb_processing_v4_flatmap.event JOIN spb_processing_v4_flatmap.event_orig_x_y USING(event_id) WHERE source_data_type_num = 1 AND abs(gtu_in_packet-42) < 20 AND spb_processing_v4_flatmap.event_orig_x_y.count_nonzero > 256*6 LIMIT 5;\n"
   ]
  },
  {
   "cell_type": "markdown",
   "metadata": {},
   "source": [
    "# Applying models"
   ]
  },
  {
   "cell_type": "markdown",
   "metadata": {},
   "source": [
    "This model does not use scaled data"
   ]
  },
  {
   "cell_type": "code",
   "execution_count": null,
   "metadata": {},
   "outputs": [],
   "source": [
    "# standard_scaler_on_train_rfecv_columns_pathname = \\\n",
    "#      os.path.join(model_data_snippets_dir, 'standard_scaler_on_train_rfecv_columns.pkl')\n",
    "# standard_scaler_on_train_rfecv_columns = joblib.load(standard_scaler_on_train_rfecv_columns_pathname)"
   ]
  },
  {
   "cell_type": "code",
   "execution_count": null,
   "metadata": {},
   "outputs": [],
   "source": [
    "# flight__rfecv_columns_scaled_X = \\\n",
    "#     standard_scaler_on_train_rfecv_columns.transform(\n",
    "#         flight_df[rfecv_selector_on_extra_trees__column_names].values)\n",
    "# if np.count_nonzero(flight_df['had_nan_fields']) > 0:\n",
    "#     flight_nonan__rfecv_columns_scaled_X = \\\n",
    "#         standard_scaler_on_train_rfecv_columns.transform(\n",
    "#             flight_df_nonan[rfecv_selector_on_extra_trees__column_names].values)\n",
    "# else:\n",
    "#     flight_nonan__rfecv_columns_scaled_X = flight__rfecv_columns_scaled_X"
   ]
  },
  {
   "cell_type": "markdown",
   "metadata": {},
   "source": [
    "## Extra trees classifier"
   ]
  },
  {
   "cell_type": "code",
   "execution_count": null,
   "metadata": {},
   "outputs": [],
   "source": [
    "utah_rfecv_columns__X  = utah_df_nonan[rfecv_selector_on_extra_trees__column_names].values"
   ]
  },
  {
   "cell_type": "code",
   "execution_count": null,
   "metadata": {},
   "outputs": [],
   "source": [
    "extra_trees_cls_on_train_rfecv__model_plk_pathname = \\\n",
    "    os.path.join(model_data_snippets_dir, 'extra_trees_cls_on_train_rfecv.pkl')\n",
    "extra_trees_cls_on_train_rfecv_est = joblib.load(extra_trees_cls_on_train_rfecv__model_plk_pathname)"
   ]
  },
  {
   "cell_type": "code",
   "execution_count": null,
   "metadata": {},
   "outputs": [],
   "source": [
    "cls_column_base = 'extra_trees_cls_on_train_rfecv_est'\n",
    "cls_column = cls_column_base + '_dropna'\n",
    "cls_proba_column = 'extra_trees_cls_on_train_rfecv_est_dropna_proba'"
   ]
  },
  {
   "cell_type": "code",
   "execution_count": null,
   "metadata": {},
   "outputs": [],
   "source": [
    "# this might not be correct (but for this particular selection it should be fine becaus utah_df_nonan == utah_df )\n",
    "utah_df[cls_column_base] = \\\n",
    "    extra_trees_cls_on_train_rfecv_est.predict(utah_rfecv_columns__X)\n",
    "\n",
    "utah_df[cls_column] = \\\n",
    "    ((utah_df[cls_column_base]==1) & ~utah_df['had_nan_fields']).astype('int8')"
   ]
  },
  {
   "cell_type": "code",
   "execution_count": null,
   "metadata": {},
   "outputs": [],
   "source": [
    "utah_df[cls_proba_column] = np.nan\n",
    "utah_df.loc[utah_df['event_id'].isin(utah_df_nonan['event_id']), cls_proba_column] = \\\n",
    "    extra_trees_cls_on_train_rfecv_est.predict_proba(utah_rfecv_columns__X)[:,1]"
   ]
  },
  {
   "cell_type": "markdown",
   "metadata": {},
   "source": [
    "### Updating `flight_df_nonan` with classification predictions\n",
    "(not in the report)"
   ]
  },
  {
   "cell_type": "code",
   "execution_count": null,
   "metadata": {},
   "outputs": [],
   "source": [
    "utah_df_nonan = utah_df[~utah_df['had_nan_fields']]"
   ]
  },
  {
   "cell_type": "markdown",
   "metadata": {},
   "source": [
    "### Statistics of selected events"
   ]
  },
  {
   "cell_type": "code",
   "execution_count": null,
   "metadata": {},
   "outputs": [],
   "source": [
    "np.count_nonzero(utah_df[cls_column])"
   ]
  },
  {
   "cell_type": "code",
   "execution_count": null,
   "metadata": {},
   "outputs": [],
   "source": [
    "np.count_nonzero(utah_df[cls_column])/len(utah_df)"
   ]
  },
  {
   "cell_type": "code",
   "execution_count": null,
   "metadata": {},
   "outputs": [],
   "source": [
    "utah_df[[cls_column, cls_proba_column]].describe()"
   ]
  },
  {
   "cell_type": "code",
   "execution_count": null,
   "metadata": {},
   "outputs": [],
   "source": [
    "for proba in np.arange(0.5, 1.0, 0.1):\n",
    "    print('p > {:.2f}: {}'.format(proba, np.count_nonzero(utah_df[cls_proba_column] > proba)))"
   ]
  },
  {
   "cell_type": "code",
   "execution_count": null,
   "metadata": {
    "scrolled": false
   },
   "outputs": [],
   "source": [
    "utah_df_nonan[rfecv_selector_on_extra_trees__column_names].head()"
   ]
  },
  {
   "cell_type": "markdown",
   "metadata": {},
   "source": [
    "### Saving utah data into tsv\n",
    "(not in the report)"
   ]
  },
  {
   "cell_type": "code",
   "execution_count": null,
   "metadata": {},
   "outputs": [],
   "source": [
    "save_utah_data_dump_file = True\n",
    "overwrite_utah_data_dump_file = False"
   ]
  },
  {
   "cell_type": "code",
   "execution_count": null,
   "metadata": {
    "scrolled": true
   },
   "outputs": [],
   "source": [
    "if save_utah_data_dump_file:\n",
    "    utah_data_tsv_pathname = os.path.join(data_snippets_dir, 'utah_data.tsv.gz')\n",
    "\n",
    "    if overwrite_utah_data_dump_file or not os.path.exists(utah_data_tsv_pathname):\n",
    "        print('Saving', utah_data_tsv_pathname)\n",
    "        utah_df.to_csv(utah_data_tsv_pathname, sep='\\t', compression='gzip')\n",
    "    else:\n",
    "        print('Already exists', utah_data_tsv_pathname)"
   ]
  },
  {
   "cell_type": "markdown",
   "metadata": {},
   "source": [
    "# Visualization of the events"
   ]
  },
  {
   "cell_type": "code",
   "execution_count": null,
   "metadata": {},
   "outputs": [],
   "source": [
    "shower_pred_by_proba_desc = utah_df_nonan[utah_df_nonan[cls_column] == 1].sort_values(cls_proba_column, ascending=False)\n",
    "shower_pred_by_proba_asc = utah_df_nonan[utah_df_nonan[cls_column] == 1].sort_values(cls_proba_column, ascending=True)\n",
    "noise_pred_by_proba_desc = utah_df_nonan[utah_df_nonan[cls_column] == 0].sort_values(cls_proba_column, ascending=False)\n",
    "noise_pred_by_proba_asc = utah_df_nonan[utah_df_nonan[cls_column] == 0].sort_values(cls_proba_column, ascending=True)"
   ]
  },
  {
   "cell_type": "markdown",
   "metadata": {},
   "source": [
    "### Visualization of tracks - air shower prediction - sorted by probability descending"
   ]
  },
  {
   "cell_type": "code",
   "execution_count": null,
   "metadata": {},
   "outputs": [],
   "source": [
    "vis_events_df(\n",
    "    shower_pred_by_proba_desc, \n",
    "    events_per_figure=10, max_figures=1, vis_gtux=True, vis_gtuy=True, \n",
    "    close_after_vis=False, show=True, \n",
    "    additional_printed_columns=[cls_proba_column],\n",
    "    by_one=True,\n",
    "    extension_func=None,\n",
    "    single_proj_width=4, single_proj_height=3\n",
    ")"
   ]
  },
  {
   "cell_type": "code",
   "execution_count": null,
   "metadata": {},
   "outputs": [],
   "source": [
    "vis_events_df(\n",
    "    shower_pred_by_proba_desc[1000:], \n",
    "    events_per_figure=10, max_figures=1, vis_gtux=True, vis_gtuy=True, \n",
    "    close_after_vis=False, show=True, \n",
    "    additional_printed_columns=[cls_proba_column],\n",
    "    by_one=True,\n",
    "    extension_func=None,\n",
    "    single_proj_width=4, single_proj_height=3\n",
    ")"
   ]
  },
  {
   "cell_type": "code",
   "execution_count": null,
   "metadata": {},
   "outputs": [],
   "source": [
    "vis_events_df(\n",
    "    shower_pred_by_proba_desc[5000:], \n",
    "    events_per_figure=10, max_figures=1, vis_gtux=True, vis_gtuy=True, \n",
    "    close_after_vis=False, show=True, \n",
    "    additional_printed_columns=[cls_proba_column],\n",
    "    by_one=True,\n",
    "    extension_func=None,\n",
    "    single_proj_width=4, single_proj_height=3\n",
    ")"
   ]
  },
  {
   "cell_type": "code",
   "execution_count": null,
   "metadata": {},
   "outputs": [],
   "source": [
    "vis_events_df(\n",
    "    shower_pred_by_proba_desc[10000:], \n",
    "    events_per_figure=10, max_figures=1, vis_gtux=True, vis_gtuy=True, \n",
    "    close_after_vis=False, show=True, \n",
    "    additional_printed_columns=[cls_proba_column],\n",
    "    by_one=True,\n",
    "    extension_func=None,\n",
    "    single_proj_width=4, single_proj_height=3\n",
    ")"
   ]
  },
  {
   "cell_type": "code",
   "execution_count": null,
   "metadata": {},
   "outputs": [],
   "source": [
    "vis_events_df(\n",
    "    shower_pred_by_proba_desc[20000:], \n",
    "    events_per_figure=10, max_figures=1, vis_gtux=True, vis_gtuy=True, \n",
    "    close_after_vis=False, show=True, \n",
    "    additional_printed_columns=[cls_proba_column],\n",
    "    by_one=True,\n",
    "    extension_func=None,\n",
    "    single_proj_width=4, single_proj_height=3\n",
    ")"
   ]
  },
  {
   "cell_type": "code",
   "execution_count": null,
   "metadata": {},
   "outputs": [],
   "source": [
    "vis_events_df(\n",
    "    shower_pred_by_proba_desc[30000:], \n",
    "    events_per_figure=10, max_figures=1, vis_gtux=True, vis_gtuy=True, \n",
    "    close_after_vis=False, show=True, \n",
    "    additional_printed_columns=[cls_proba_column],\n",
    "    by_one=True,\n",
    "    extension_func=None,\n",
    "    single_proj_width=4, single_proj_height=3\n",
    ")"
   ]
  },
  {
   "cell_type": "code",
   "execution_count": null,
   "metadata": {},
   "outputs": [],
   "source": [
    "vis_events_df(\n",
    "    shower_pred_by_proba_desc[40000:], \n",
    "    events_per_figure=10, max_figures=1, vis_gtux=True, vis_gtuy=True, \n",
    "    close_after_vis=False, show=True, \n",
    "    additional_printed_columns=[cls_proba_column],\n",
    "    by_one=True,\n",
    "    extension_func=None,\n",
    "    single_proj_width=4, single_proj_height=3\n",
    ")"
   ]
  },
  {
   "cell_type": "markdown",
   "metadata": {},
   "source": [
    "### Visualization of tracks - air shower prediction - sorted by probability ascending"
   ]
  },
  {
   "cell_type": "code",
   "execution_count": null,
   "metadata": {},
   "outputs": [],
   "source": [
    "len(shower_pred_by_proba_asc)"
   ]
  },
  {
   "cell_type": "code",
   "execution_count": null,
   "metadata": {
    "scrolled": true
   },
   "outputs": [],
   "source": [
    "vis_events_df(\n",
    "    shower_pred_by_proba_asc[:20], \n",
    "    events_per_figure=10, max_figures=1, vis_gtux=True, vis_gtuy=True, \n",
    "    close_after_vis=False, show=True, \n",
    "    additional_printed_columns=[cls_proba_column, 'source_file_acquisition'],\n",
    "    by_one=True,\n",
    "    extension_func=None,\n",
    "    single_proj_width=4, single_proj_height=3\n",
    ")"
   ]
  },
  {
   "cell_type": "code",
   "execution_count": null,
   "metadata": {
    "scrolled": true
   },
   "outputs": [],
   "source": [
    "vis_events_df(\n",
    "    shower_pred_by_proba_asc[4000:], \n",
    "    events_per_figure=10, max_figures=1, vis_gtux=True, vis_gtuy=True, \n",
    "    close_after_vis=False, show=True, \n",
    "    additional_printed_columns=[cls_proba_column, 'source_file_acquisition'],\n",
    "    by_one=True,\n",
    "    extension_func=None,\n",
    "    single_proj_width=4, single_proj_height=3\n",
    ")"
   ]
  },
  {
   "cell_type": "code",
   "execution_count": null,
   "metadata": {
    "scrolled": true
   },
   "outputs": [],
   "source": [
    "vis_events_df(\n",
    "    shower_pred_by_proba_asc[8000:], \n",
    "    events_per_figure=10, max_figures=1, vis_gtux=True, vis_gtuy=True, \n",
    "    close_after_vis=False, show=True, \n",
    "    additional_printed_columns=[cls_proba_column, 'source_file_acquisition'],\n",
    "    by_one=True,\n",
    "    extension_func=None,\n",
    "    single_proj_width=4, single_proj_height=3\n",
    ")"
   ]
  },
  {
   "cell_type": "markdown",
   "metadata": {},
   "source": [
    "### Visualization of tracks - noise prediction - sorted by probability descending"
   ]
  },
  {
   "cell_type": "code",
   "execution_count": null,
   "metadata": {},
   "outputs": [],
   "source": [
    "len(noise_pred_by_proba_desc)"
   ]
  },
  {
   "cell_type": "code",
   "execution_count": null,
   "metadata": {},
   "outputs": [],
   "source": [
    "vis_events_df(\n",
    "    noise_pred_by_proba_desc, \n",
    "    events_per_figure=10, max_figures=1, vis_gtux=True, vis_gtuy=True, \n",
    "    close_after_vis=False, show=True, \n",
    "    additional_printed_columns=[cls_proba_column, 'source_file_acquisition'],\n",
    "    by_one=True,\n",
    "    extension_func=None,\n",
    "    single_proj_width=4, single_proj_height=3\n",
    ")"
   ]
  },
  {
   "cell_type": "markdown",
   "metadata": {},
   "source": [
    "Shower events (20190409):\n",
    " - 1929 (short track, looks as single gtu track)\n",
    " \n",
    " 661289"
   ]
  },
  {
   "cell_type": "code",
   "execution_count": null,
   "metadata": {},
   "outputs": [],
   "source": [
    "vis_events_df(\n",
    "    noise_pred_by_proba_desc[100:], \n",
    "    events_per_figure=10, max_figures=1, vis_gtux=True, vis_gtuy=True, \n",
    "    close_after_vis=False, show=True, \n",
    "    additional_printed_columns=[cls_proba_column, 'source_file_acquisition_full'],\n",
    "    by_one=True,\n",
    "    extension_func=None,\n",
    "    single_proj_width=4, single_proj_height=3\n",
    ")"
   ]
  },
  {
   "cell_type": "markdown",
   "metadata": {},
   "source": [
    "Shower events (20190409):\n",
    " - 686894 (obvious air shower track)\n",
    " - 316757 (short obvious air shower track)"
   ]
  },
  {
   "cell_type": "code",
   "execution_count": null,
   "metadata": {
    "scrolled": true
   },
   "outputs": [],
   "source": [
    "vis_events_df(\n",
    "    noise_pred_by_proba_desc[200000:], \n",
    "    events_per_figure=10, max_figures=1, vis_gtux=True, vis_gtuy=True, \n",
    "    close_after_vis=False, show=True, \n",
    "    additional_printed_columns=[cls_proba_column, 'source_file_acquisition_full'],\n",
    "    by_one=True,\n",
    "    extension_func=None,\n",
    "    single_proj_width=4, single_proj_height=3\n",
    ")"
   ]
  },
  {
   "cell_type": "code",
   "execution_count": null,
   "metadata": {
    "scrolled": true
   },
   "outputs": [],
   "source": [
    "vis_events_df(\n",
    "    noise_pred_by_proba_desc[100000:], \n",
    "    events_per_figure=10, max_figures=1, vis_gtux=True, vis_gtuy=True, \n",
    "    close_after_vis=False, show=True, \n",
    "    additional_printed_columns=[cls_proba_column, 'source_file_acquisition_full'],\n",
    "    by_one=True,\n",
    "    extension_func=None,\n",
    "    single_proj_width=4, single_proj_height=3\n",
    ")"
   ]
  },
  {
   "cell_type": "markdown",
   "metadata": {},
   "source": [
    "## Numbers of selected packets from eusospb analisi table"
   ]
  },
  {
   "cell_type": "code",
   "execution_count": null,
   "metadata": {},
   "outputs": [],
   "source": [
    "eusospb_analisi_with_pathnames_left_pathname = os.path.join(utah_file_analysis_snippets_dir, 'eusospb_analisi_with_pathnames_left.tsv')\n",
    "eusospb_analisi_with_pathnames_left_df = pd.read_csv(eusospb_analisi_with_pathnames_left_pathname, sep='\\t', index_col=0)"
   ]
  },
  {
   "cell_type": "code",
   "execution_count": null,
   "metadata": {},
   "outputs": [],
   "source": [
    "eusospb_analisi_with_pathnames_left_df"
   ]
  },
  {
   "cell_type": "code",
   "execution_count": null,
   "metadata": {},
   "outputs": [],
   "source": [
    "df = eusospb_analisi_with_pathnames_left_df\n",
    "\n",
    "for cfg in ['ta_euso', 'ta_euso_10', 'euso_bal', 'euso_bal_10', 'euso_bal_20']:\n",
    "    df['max_' + cfg] = np.max([df[cfg + '_ec2'], df[cfg + '_ec5'], df[cfg + '_ec8']], axis=0)\n",
    "    df['eff_' + cfg] = df['max_' + cfg] / df['pack']"
   ]
  },
  {
   "cell_type": "code",
   "execution_count": null,
   "metadata": {},
   "outputs": [],
   "source": [
    "eusospb_analisi_with_pathnames_left_df"
   ]
  },
  {
   "cell_type": "markdown",
   "metadata": {},
   "source": [
    "### Example on the first event"
   ]
  },
  {
   "cell_type": "code",
   "execution_count": null,
   "metadata": {},
   "outputs": [],
   "source": [
    "shower_events = utah_df_nonan[(utah_df_nonan['source_file_acquisition'] == eusospb_analisi_with_pathnames_left_df.iloc[0]['file_pathname']) & (utah_df_nonan[cls_column] == 1)]\n",
    "\n",
    "shower_events"
   ]
  },
  {
   "cell_type": "code",
   "execution_count": null,
   "metadata": {},
   "outputs": [],
   "source": [
    "len(shower_events)"
   ]
  },
  {
   "cell_type": "code",
   "execution_count": null,
   "metadata": {
    "scrolled": true
   },
   "outputs": [],
   "source": [
    "shower_packets_num_events = shower_events.groupby('packet_id')['event_id'].count()\n",
    "\n",
    "shower_packets_num_events"
   ]
  },
  {
   "cell_type": "code",
   "execution_count": null,
   "metadata": {},
   "outputs": [],
   "source": [
    "len(shower_packets_num_events)"
   ]
  },
  {
   "cell_type": "code",
   "execution_count": null,
   "metadata": {},
   "outputs": [],
   "source": [
    "multiple_times_packet_id_events_df = \\\n",
    "    shower_events[shower_events['packet_id'].isin(shower_packets_num_events[shower_packets_num_events > 1].index)].sort_values(['packet_id', cls_proba_column], ascending=[True,False])\n",
    "\n",
    "multiple_times_packet_id_events_df"
   ]
  },
  {
   "cell_type": "code",
   "execution_count": null,
   "metadata": {
    "scrolled": true
   },
   "outputs": [],
   "source": [
    "vis_events_df(\n",
    "    multiple_times_packet_id_events_df, \n",
    "    events_per_figure=10, max_figures=1, vis_gtux=True, vis_gtuy=True, \n",
    "    close_after_vis=False, show=True, \n",
    "    additional_printed_columns=[cls_proba_column, 'source_file_acquisition_full'],\n",
    "    by_one=True,\n",
    "    extension_func=None,\n",
    "    single_proj_width=4, single_proj_height=3\n",
    ")"
   ]
  },
  {
   "cell_type": "markdown",
   "metadata": {},
   "source": [
    "### Counts of recognized showers"
   ]
  },
  {
   "cell_type": "code",
   "execution_count": null,
   "metadata": {
    "scrolled": false
   },
   "outputs": [],
   "source": [
    "# investigation of track gtu range - reuslt: 30 < gtu_in_packet < 68\n",
    "#3793 5 32\n",
    "# vis_events_df(\n",
    "# #     utah_df_nonan.query('gtu_in_packet == 68').sort_values(cls_proba_column, ascending=False), \n",
    "#     utah_df_nonan.query('event_id == 364599'),\n",
    "#     events_per_figure=10, max_figures=1, vis_gtux=True, vis_gtuy=True, \n",
    "#     close_after_vis=False, show=True, \n",
    "#     additional_printed_columns=[cls_proba_column, 'source_file_acquisition_full'],\n",
    "#     by_one=True,\n",
    "#     extension_func=None,\n",
    "#     single_proj_width=4, single_proj_height=3\n",
    "# )"
   ]
  },
  {
   "cell_type": "code",
   "execution_count": null,
   "metadata": {
    "scrolled": false
   },
   "outputs": [],
   "source": [
    "df = eusospb_analisi_with_pathnames_left_df\n",
    "\n",
    "for class_num, class_label in enumerate(['noise', 'shower']):\n",
    "\n",
    "    df['num_' + class_label + '_events'] = -1\n",
    "    df['num_' + class_label + '_events_gtu_40'] = -1\n",
    "    df['num_' + class_label + '_packets'] = -1\n",
    "    df['num_' + class_label + '_packets_gtu_40'] = -1\n",
    "    df['num_' + class_label + '_multiple_event_packets'] = -1\n",
    "    df['num_' + class_label + '_multiple_packet_events'] = -1\n",
    "    df['num_' + class_label + '_multiple_packet_events_gtu_40'] = -1\n",
    "\n",
    "    for k, file_pathname in eusospb_analisi_with_pathnames_left_df['file_pathname'].items():\n",
    "\n",
    "        cls_events = utah_df_nonan[(utah_df_nonan['source_file_acquisition'] == file_pathname) & (utah_df_nonan[cls_column] == class_num)]\n",
    "        \n",
    "        cls_packets_num_events = cls_events.groupby('packet_id')['event_id'].count()\n",
    "        num_packets = len(cls_packets_num_events)\n",
    "        \n",
    "        cls_events_gtu_40_df = \\\n",
    "            cls_events[\n",
    "                (30 < cls_events['gtu_in_packet']) & \\\n",
    "                (cls_events['gtu_in_packet'] < 68)\n",
    "            ]\n",
    "        \n",
    "        cls_packets_num_events_gtu_40 = cls_events_gtu_40_df.groupby('packet_id')['event_id'].count()\n",
    "        num_packets_gtu_40 = len(cls_packets_num_events_gtu_40)\n",
    "        \n",
    "        multple_event_packets_gtu_40_indexes = cls_packets_num_events_gtu_40[cls_packets_num_events_gtu_40 > 1].index\n",
    "        \n",
    "        if(len(multple_event_packets_gtu_40_indexes) > 1):\n",
    "            print('!!! MULTIPLE EVENTS IN A SINGLE PACKET\\n\\t{}({}) / {}({}): {}'.format(\n",
    "                class_label, class_num, file_pathname, k, len(multple_event_packets_gtu_40_indexes),\n",
    "                # 'cls_packets_num_events_gtu_40[cls_packets_num_events_gtu_40 > 1]'\n",
    "            ))\n",
    "        \n",
    "        multple_event_packets_indexes = cls_packets_num_events[cls_packets_num_events > 1].index\n",
    "\n",
    "        multiple_packet_events_df = \\\n",
    "            cls_events[cls_events['packet_id'].isin(multple_event_packets_indexes)] \\\n",
    "                .sort_values(['packet_id', cls_proba_column], ascending=[True,False])\n",
    "\n",
    "        multiple_packet_events_gtu_40_df = \\\n",
    "            multiple_packet_events_df[\n",
    "                (36 < multiple_packet_events_df['gtu_in_packet']) & \\\n",
    "                (multiple_packet_events_df['gtu_in_packet'] < 50)\n",
    "            ]\n",
    "\n",
    "        \n",
    "        if num_packets_gtu_40 < num_packets and class_num == 1:\n",
    "                        \n",
    "            cls_events_outside_gtu_40_df = \\\n",
    "                cls_events[\n",
    "                    (30 >= cls_events['gtu_in_packet']) | \\\n",
    "                    (cls_events['gtu_in_packet'] >= 68)\n",
    "                ]\n",
    "            \n",
    "            print('!!! (only shower) MORE PACKETS OUTSIDE GTU=40\\n\\t{}({}) / {}({}): num_packets_gtu_40={}, num_packets={}'.format(\n",
    "                class_label, class_num, file_pathname, k, num_packets_gtu_40, num_packets\n",
    "            ))\n",
    "            for ti, (tk, tr) in enumerate(cls_events_outside_gtu_40_df.iterrows()):\n",
    "                print('\\t', tr['event_id'], tr['packet_id'], tr['gtu_in_packet'])\n",
    "                if ti > 5:\n",
    "                    break\n",
    "        \n",
    "        # multiple_packet_events_proba_09_df = multiple_packet_events_df[multiple_packet_events_df[cls_proba_column] > 0.9] \n",
    "\n",
    "        df.loc[k, 'num_' + class_label + '_events'] = len(cls_events)\n",
    "        df.loc[k, 'num_' + class_label + '_events_gtu_40'] = len(cls_events_gtu_40_df)\n",
    "        df.loc[k, 'num_' + class_label + '_packets'] = num_packets\n",
    "        df.loc[k, 'num_' + class_label + '_packets_gtu_40'] = num_packets_gtu_40\n",
    "        df.loc[k, 'num_' + class_label + '_multiple_event_packets'] = len(multple_event_packets_indexes)\n",
    "        df.loc[k, 'num_' + class_label + '_multiple_packet_events'] = len(multiple_packet_events_df)\n",
    "        df.loc[k, 'num_' + class_label + '_multiple_packet_events_gtu_40'] = len(multiple_packet_events_gtu_40_df)"
   ]
  },
  {
   "cell_type": "code",
   "execution_count": null,
   "metadata": {},
   "outputs": [],
   "source": [
    "df = eusospb_analisi_with_pathnames_left_df\n",
    "\n",
    "for col in ['shower_packets', 'shower_packets_gtu_40']:\n",
    "    df['eff_' + col] = df['num_' + col] / df['pack']"
   ]
  },
  {
   "cell_type": "code",
   "execution_count": null,
   "metadata": {
    "scrolled": false
   },
   "outputs": [],
   "source": [
    "eusospb_analisi_with_pathnames_left_df[[\n",
    "    'num_lens', 'run', 'per', 'mj', 'pack', \n",
    "    # 'euso_bal_ec2', 'euso_bal_ec5', 'euso_bal_ec8', \n",
    "    'max_euso_bal', 'max_euso_bal_10', \n",
    "    'num_noise_packets', 'num_shower_packets', \n",
    "    'num_noise_packets_gtu_40', 'num_shower_packets_gtu_40',\n",
    "    'eff_euso_bal_10', 'eff_shower_packets_gtu_40',\n",
    "    'num_noise_events', 'num_shower_events',\n",
    "    'num_noise_events_gtu_40', 'num_shower_events_gtu_40', \n",
    "    'acq_group', 'file_pathname'\n",
    "]].sort_values('mj', ascending=True)"
   ]
  },
  {
   "cell_type": "code",
   "execution_count": null,
   "metadata": {
    "scrolled": true
   },
   "outputs": [],
   "source": [
    "eusospb_analisi_with_pathnames_left_df.query('num_noise_packets == 0 and num_shower_packets == 0')"
   ]
  },
  {
   "cell_type": "code",
   "execution_count": null,
   "metadata": {},
   "outputs": [],
   "source": [
    "utah_df_nonan.query('source_file_acquisition == \"300916/GLS/allpackets-SPBEUSO-ACQUISITION-20161004-033506-001.001--45degaway55per.root\"')"
   ]
  },
  {
   "cell_type": "code",
   "execution_count": null,
   "metadata": {},
   "outputs": [],
   "source": [
    "print('Number of uncassified / missing files:', len(eusospb_analisi_with_pathnames_left_df.query('num_noise_packets == 0 and num_shower_packets == 0')))"
   ]
  },
  {
   "cell_type": "code",
   "execution_count": null,
   "metadata": {},
   "outputs": [],
   "source": [
    "def acq_group_stats(num_lens, acq_group=None):\n",
    "    \n",
    "    print('Num lens:', num_lens)\n",
    "    print('Acquisitions group:', acq_group)\n",
    "    \n",
    "    eusospb_analisi_2_len_by_mj = \\\n",
    "        eusospb_analisi_with_pathnames_left_df \\\n",
    "            .query('num_lens == {num_lens} and (num_noise_events > 0 or num_shower_events > 0) {acq_group_part}' \\\n",
    "                       .format(num_lens=num_lens, acq_group_part='and acq_group==\"{}\"'.format(acq_group) if acq_group else '')\n",
    "                  ) \\\n",
    "            .sort_values('mj', ascending=True)\n",
    "    \n",
    "    print('Number of entries:', len(eusospb_analisi_2_len_by_mj))\n",
    "    \n",
    "    IPython.display.display(eusospb_analisi_2_len_by_mj[[\n",
    "        'num_lens', 'run', 'per', 'mj', 'pack', \n",
    "        'max_euso_bal', 'max_euso_bal_10', \n",
    "        'num_noise_packets', 'num_shower_packets', \n",
    "        'num_noise_packets_gtu_40', 'num_shower_packets_gtu_40',\n",
    "        'eff_euso_bal_10', 'eff_shower_packets_gtu_40',\n",
    "        'acq_group', 'file_pathname'\n",
    "    ]])\n",
    "    \n",
    "    fig, ax = plt.subplots(figsize=(8,6))\n",
    "    eusospb_analisi_2_len_by_mj.plot('mj', 'eff_euso_bal', ax=ax, label='EUSO Bal. (P=1,R=1)')\n",
    "    eusospb_analisi_2_len_by_mj.plot('mj', 'eff_euso_bal_10', ax=ax, label='EUSO Bal. (P=1,R=1) -10%')\n",
    "    eusospb_analisi_2_len_by_mj.plot('mj', 'eff_shower_packets_gtu_40', ax=ax, label='Classification model ({})'.format(classification_id))\n",
    "    ax.set_xlabel('Laser energy [mJ]')\n",
    "    ax.set_ylabel('Efficiency')\n",
    "    \n",
    "    path_compatible_acq_group = slugify(acq_group) if acq_group else 'any'\n",
    "    \n",
    "    fig.savefig(os.path.join(data_snippets_dir, \n",
    "                             'efficiency_plot_acq_group_{}_eusobal_classification_model_comparison.svg' \\\n",
    "                                 .format(path_compatible_acq_group)))\n",
    "    \n",
    "    fig, ax, errbr = \\\n",
    "        plot_efficiency_stat_simple(\n",
    "            eusospb_analisi_2_len_by_mj['mj'], eusospb_analisi_2_len_by_mj['eff_shower_packets_gtu_40'], \n",
    "            yerr=statmodels_proportion_confint(eusospb_analisi_2_len_by_mj['num_shower_packets_gtu_40'].data, \n",
    "                                               eusospb_analisi_2_len_by_mj['pack'].data, method='beta'),\n",
    "            figsize=(8,6), ylabel='Efficiency', xlabel='Laser energy [mJ]',\n",
    "            show=False\n",
    "        );\n",
    "    \n",
    "    fig.savefig(os.path.join(data_snippets_dir, \n",
    "                             'efficiency_plot_acq_group_{}_classification_model.svg' \\\n",
    "                                 .format(path_compatible_acq_group)))\n",
    "    \n",
    "    plt.show()"
   ]
  },
  {
   "cell_type": "code",
   "execution_count": null,
   "metadata": {
    "scrolled": false
   },
   "outputs": [],
   "source": [
    "for num_lens in np.unique(eusospb_analisi_with_pathnames_left_df['num_lens']):\n",
    "    for acq_group in (None, *eusospb_analisi_with_pathnames_left_df.query('num_lens=='+str(num_lens))['acq_group'].unique().tolist()):\n",
    "        acq_group_stats(num_lens, acq_group)\n",
    "        print()\n",
    "        print('='*100)\n",
    "        print()"
   ]
  },
  {
   "cell_type": "code",
   "execution_count": null,
   "metadata": {},
   "outputs": [],
   "source": [
    "def failed_mj(num_lens, acq_group=None, find_events=True, show_events=False, events_per_figure=10):\n",
    "    \n",
    "    print('Num lens:', num_lens)\n",
    "    print('Acquisitions group:', acq_group)\n",
    "    \n",
    "    eusospb_analisi_2_len_by_mj = \\\n",
    "        eusospb_analisi_with_pathnames_left_df \\\n",
    "            .query('num_lens == {num_lens} and (num_noise_events > 0 or num_shower_events > 0) {acq_group_part} and eff_shower_packets_gtu_40 < 0.5 ' \\\n",
    "                       .format(num_lens=num_lens, acq_group_part='and acq_group==\"{}\"'.format(acq_group) if acq_group else '')\n",
    "                  ) \\\n",
    "            .sort_values('mj', ascending=True)\n",
    "    \n",
    "    print('Number of entries:', len(eusospb_analisi_2_len_by_mj))\n",
    "    \n",
    "    IPython.display.display(eusospb_analisi_2_len_by_mj[[\n",
    "        'num_lens', 'run', 'per', 'mj', 'pack', \n",
    "        'max_euso_bal', 'max_euso_bal_10', \n",
    "        'num_noise_packets', 'num_shower_packets', \n",
    "        'num_noise_packets_gtu_40', 'num_shower_packets_gtu_40',\n",
    "        'eff_euso_bal_10', 'eff_shower_packets_gtu_40',\n",
    "        'acq_group', 'file_pathname'\n",
    "    ]])\n",
    "    \n",
    "    if not find_events:\n",
    "        return\n",
    "\n",
    "    for i, r in eusospb_analisi_2_len_by_mj.iterrows():\n",
    "        file_pathname = r['file_pathname']\n",
    "        print(file_pathname)\n",
    "        print('\\teff_euso_bal = {:.3f}\\n\\teff_euso_bal_10 = {:.3f}\\n\\teff_shower_packets_gtu_40 = {:.3f}\\n\\tmj = {:.3f}\\n\\tpack = {:d}'.format(\n",
    "            r['eff_euso_bal'], r['eff_euso_bal_10'], r['eff_shower_packets_gtu_40'], r['mj'], r['pack']\n",
    "        ))\n",
    "#         all_file_entries = eusospb_analisi_with_pathnames_left_df.query('source_file_acquisition == \"{}\"'.format(file_pathname))\n",
    "#         print('Number of all entries:', len(all_file_entries))\n",
    "        \n",
    "        acq_events = utah_df_nonan[(utah_df_nonan['source_file_acquisition'] == file_pathname)]\n",
    "        \n",
    "        for class_num, class_label in enumerate(['noise', 'shower']):\n",
    "            \n",
    "            cls_events = acq_events[(acq_events[cls_column] == class_num)]\n",
    "            cls_packets_num_events = cls_events.groupby('packet_id')['event_id'].count()\n",
    "            \n",
    "            cls_events_gtu_40_df = \\\n",
    "                cls_events[\n",
    "                    (30 < cls_events['gtu_in_packet']) & \\\n",
    "                    (cls_events['gtu_in_packet'] < 68)\n",
    "                ].sort_values(cls_proba_column, ascending=bool(class_num))\n",
    "            \n",
    "            cls_packets_num_events_gtu_40 = cls_events_gtu_40_df.groupby('packet_id')['event_id'].count()\n",
    "            \n",
    "            print()\n",
    "            print(\n",
    "                'Events classified as {}:\\n\\tcount:        {:5d} (30 < gtu_in_packet < 68)\\n\\tpacket count: {:5d} (30 < gtu_in_packet < 68)' \\\n",
    "                    .format(class_label, len(cls_events_gtu_40_df), len(cls_packets_num_events_gtu_40))\n",
    "            )\n",
    "            print()\n",
    "            \n",
    "            if show_events:\n",
    "                vis_events_df(\n",
    "                    cls_events_gtu_40_df, \n",
    "                    events_per_figure=events_per_figure, max_figures=1, vis_gtux=True, vis_gtuy=True, \n",
    "                    close_after_vis=False, show=True, \n",
    "                    additional_printed_columns=[cls_proba_column, 'source_file_acquisition_full'],\n",
    "                    by_one=True,\n",
    "                    extension_func=None,\n",
    "                    single_proj_width=4, single_proj_height=3\n",
    "                )\n",
    "            print('-'*100)\n",
    "    "
   ]
  },
  {
   "cell_type": "code",
   "execution_count": null,
   "metadata": {
    "scrolled": false
   },
   "outputs": [],
   "source": [
    "for num_lens in np.unique(eusospb_analisi_with_pathnames_left_df['num_lens']):\n",
    "    for acq_group in eusospb_analisi_with_pathnames_left_df.query('num_lens=='+str(num_lens))['acq_group'].unique().tolist():\n",
    "        failed_mj(num_lens, acq_group, find_events=True, show_events=True)\n",
    "        print()\n",
    "        print('='*100)\n",
    "        print()\n",
    "        "
   ]
  },
  {
   "cell_type": "code",
   "execution_count": null,
   "metadata": {},
   "outputs": [],
   "source": [
    "#event_v3_storage_provider_flight.connection.reset()"
   ]
  },
  {
   "cell_type": "code",
   "execution_count": null,
   "metadata": {},
   "outputs": [],
   "source": [
    "# flight_nonan_classified_shower_pathname = os.path.join(data_snippets_dir, 'flight_nonan_classified shower.tsv')"
   ]
  },
  {
   "cell_type": "code",
   "execution_count": null,
   "metadata": {},
   "outputs": [],
   "source": [
    "# flight_df_nonan[flight_df_nonan['extra_trees_cls_on_train_kbest400_128_est_dropna']==1].to_csv(flight_nonan_classified_shower_pathname, sep='\\t')"
   ]
  },
  {
   "cell_type": "code",
   "execution_count": null,
   "metadata": {},
   "outputs": [],
   "source": []
  },
  {
   "cell_type": "code",
   "execution_count": null,
   "metadata": {},
   "outputs": [],
   "source": [
    "# TODO select clusters with positive classification (sort by the number of classifications) show distribution of event types"
   ]
  },
  {
   "cell_type": "code",
   "execution_count": null,
   "metadata": {},
   "outputs": [],
   "source": []
  },
  {
   "cell_type": "code",
   "execution_count": null,
   "metadata": {},
   "outputs": [],
   "source": [
    "\n",
    "# flight_df_nonan_subset[['dbscan_tsne_y','manual_classification_class_number'].hist('dbscan_tsne_y', figsize=(24,4), bins=2*len(dbscan_on_tsne_classes)+1)\n",
    "\n",
    "# plt.show()"
   ]
  },
  {
   "cell_type": "code",
   "execution_count": null,
   "metadata": {},
   "outputs": [],
   "source": [
    "# THIS IS NOT WHAT IS DESIRED - values should be split into features ?\n",
    "# flight_nonan__cls_tsneclu_corr_df = \\\n",
    "#     flight_df_nonan[['dbscan_tsne_y', 'manual_classification_class_number']].corr()\n",
    "# f, ax = plt.subplots(figsize=(28,22))\n",
    "# plt.close('all')\n",
    "# sns.heatmap(flight_nonan__cls_tsneclu_corr_df, cmap='inferno', annot=True)\n",
    "# plt.show()"
   ]
  },
  {
   "cell_type": "code",
   "execution_count": null,
   "metadata": {},
   "outputs": [],
   "source": []
  },
  {
   "cell_type": "code",
   "execution_count": null,
   "metadata": {},
   "outputs": [],
   "source": [
    "#     f, ax = plt.subplots()\n",
    "#     f.set_size_inches(8,4)\n",
    "#     flight_df_nonan_subset[['dbscan_tsne_y', 'manual_classification_class_number']].plot.bar(by='dbscan_tsne_y', ax=ax)\n",
    "    "
   ]
  },
  {
   "cell_type": "code",
   "execution_count": null,
   "metadata": {},
   "outputs": [],
   "source": [
    "# flight_nonan__tsne__gmm_y_pred = gmm.predict(flight_df_nonan[['tsne_X_0','tsne_X_1']].values)"
   ]
  },
  {
   "cell_type": "code",
   "execution_count": null,
   "metadata": {},
   "outputs": [],
   "source": [
    "# flight_data__k50best_var_th_scaled_X = \\\n",
    "#     k50best_f_classif_selector_on_var_th_sc_train.transform(\n",
    "#         var_th_selector_on_scaled_train.transform(\n",
    "#             standard_scaler_on_train.transform(\n",
    "#                 unl_flight_df[analyzed_common_df_columns].dropna().values)\n",
    "#         )\n",
    "#     )\n",
    "\n",
    "# extra_trees_classifier_on_train_kbest50__X_flight = flight_data__k50best_var_th_scaled_X\n",
    "# extra_trees_classifier_on_train_kbest50__y_flight_pred = \\\n",
    "#     extra_trees_classifier_on_train_kbest50.predict(extra_trees_classifier_on_train_kbest50__X_flight)"
   ]
  },
  {
   "cell_type": "code",
   "execution_count": null,
   "metadata": {},
   "outputs": [],
   "source": []
  }
 ],
 "metadata": {
  "kernelspec": {
   "display_name": "Python 3",
   "language": "python",
   "name": "python3"
  },
  "language_info": {
   "codemirror_mode": {
    "name": "ipython",
    "version": 3
   },
   "file_extension": ".py",
   "mimetype": "text/x-python",
   "name": "python",
   "nbconvert_exporter": "python",
   "pygments_lexer": "ipython3",
   "version": "3.6.3"
  }
 },
 "nbformat": 4,
 "nbformat_minor": 2
}
