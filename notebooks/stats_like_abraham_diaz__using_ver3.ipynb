{
 "cells": [
  {
   "cell_type": "code",
   "execution_count": 4,
   "metadata": {},
   "outputs": [],
   "source": [
    "import sys\n",
    "import os\n",
    "import subprocess\n",
    "\n",
    "app_base_dir = '/home/spbproc/euso-spb-patt-reco-v1'\n",
    "if app_base_dir not in sys.path:\n",
    "    sys.path.append(app_base_dir)\n",
    "\n",
    "import re\n",
    "# import collections\n",
    "import numpy as np\n",
    "import psycopg2 as pg\n",
    "import pandas as pd\n",
    "import pandas.io.sql as psql\n",
    "import getpass\n",
    "import matplotlib as mpl\n",
    "import argparse\n",
    "import glob\n",
    "# from tqdm import tqdm\n",
    "import traceback\n",
    "import hashlib\n",
    "\n",
    "import event_processing_v3\n",
    "import postgresql_v3_event_storage\n",
    "import dataset_query_functions_v3\n",
    "\n",
    "mpl.rcParams['figure.dpi'] = 80\n",
    "\n",
    "import matplotlib.pyplot as plt\n",
    "\n",
    "#import ROOT\n",
    "\n",
    "# import tool.npy_frames_visualization as npy_vis\n",
    "import tool.acqconv\n",
    "from data_analysis_utils import *\n",
    "from event_recognition_efficiency_v3 import *\n",
    "# import supervised_classification as supc"
   ]
  },
  {
   "cell_type": "code",
   "execution_count": 5,
   "metadata": {
    "collapsed": true
   },
   "outputs": [],
   "source": [
    "data_snippents_dir = 'ver3_data_snippets'\n",
    "os.makedirs(data_snippents_dir, exist_ok=True)"
   ]
  },
  {
   "cell_type": "code",
   "execution_count": 6,
   "metadata": {},
   "outputs": [],
   "source": [
    "event_v3_storage_provider = dataset_query_functions_v3.build_event_v3_storage_provider(\n",
    "    event_storage_provider_config_file=os.path.join(app_base_dir,'config_simu_signal.ini'), table_names_version='ver3',\n",
    "    event_storage_class=postgresql_v3_event_storage.PostgreSqlEventV3StorageProvider,\n",
    "    event_processing_class=event_processing_v3.EventProcessingV3\n",
    ")\n",
    "\n",
    "query_functions = dataset_query_functions_v3.Ver3DatasetQueryFunctions(event_v3_storage_provider)"
   ]
  },
  {
   "cell_type": "code",
   "execution_count": null,
   "metadata": {
    "collapsed": true
   },
   "outputs": [],
   "source": [
    "columns_for_analysis_dict = query_functions.get_columns_for_classification_dict__by_excluding(\n",
    "    excluded_columns_re_list=(\n",
    "        '^.+$',\n",
    "    ),\n",
    "    \n",
    "    default_excluded_columns_re_list=[],\n",
    "#     for debugging selection\n",
    "    included_columns_re_list=[('^$',None), \n",
    "                              ('^$','gtu_in_packet'), ('^$','event_id'), ('^$','num_gtu'),\n",
    "                             \n",
    "                              '.*orig_x_y_max',\n",
    "                              \n",
    "                              ('proc\\d_x_y',None),\n",
    "                              ('proc\\d_x_y_clusters',None),\n",
    "                              \n",
    "                              '.*(proc|trg)\\d_(x|gtu)_(x|y)_clusters_count',\n",
    "                              '.*(proc|trg)\\d_(x|gtu)_(x|y)_clusters_sizes_mean$',\n",
    "                              '.*(proc|trg)\\d_(x|gtu)_(x|y)_clusters_sizes_max$',\n",
    "                              '.*(proc|trg)\\d_(x|gtu)_(x|y)_hough_peak_thr\\d+_max_clu_major_line_phi$',\n",
    "                              '.*(proc|trg)\\d_(x|gtu)_(x|y)_hough_peak_thr\\d+_max_clu_major_line_rho$',\n",
    "                              '.*(proc|trg)\\d_(x|gtu)_(x|y)_hough_peak_thr\\d+_major_line_phi$',\n",
    "                              '.*(proc|trg)\\d_(x|gtu)_(x|y)_hough_peak_thr\\d+_major_line_rho$',\n",
    "                              '.*(proc|trg)\\d_(x|gtu)_(x|y)_hough_peak_thr\\d+_line_clusters_max_size_clu_height$',\n",
    "                              '.*(proc|trg)\\d_(x|gtu)_(x|y)_hough_peak_thr\\d+_line_clusters_max_size_clu_width$',\n",
    "                              '.*(proc|trg)\\d_(x|gtu)_(x|y)_hough_peak_thr\\d+_line_clusters_max_sum_clu_height$',\n",
    "                              '.*(proc|trg)\\d_(x|gtu)_(x|y)_hough_peak_thr\\d+_line_clusters_max_sum_clu_width$',\n",
    "                              '.*(proc|trg)\\d_(x|gtu)_(x|y)_hough_peak_thr\\d+_line_clusters_count',\n",
    "                              '.*(proc|trg)\\d_(x|gtu)_(x|y)_clusters_count',\n",
    "                              \n",
    "                              '^trg_box_per_gtu_.+', '^trg_ec_per_gtu_.+', '^n_persist_.+', '^sum_l1_pdm_.+',\n",
    "                              \n",
    "                              '^trg_count_nonzero$', '^trg_sum$', '^trg_norm_sum$', '^trg_max$', '^trg_mean$'\n",
    "                             ]\n",
    "    \n",
    ")"
   ]
  },
  {
   "cell_type": "code",
   "execution_count": null,
   "metadata": {
    "collapsed": true
   },
   "outputs": [],
   "source": [
    "# Number of events (bgf 0.5)"
   ]
  },
  {
   "cell_type": "code",
   "execution_count": null,
   "metadata": {
    "collapsed": true
   },
   "outputs": [],
   "source": []
  },
  {
   "cell_type": "code",
   "execution_count": null,
   "metadata": {
    "collapsed": true
   },
   "outputs": [],
   "source": [
    "# Number of events by duration (bgf 0.5)"
   ]
  },
  {
   "cell_type": "code",
   "execution_count": null,
   "metadata": {
    "collapsed": true
   },
   "outputs": [],
   "source": [
    "## Length distribution"
   ]
  },
  {
   "cell_type": "code",
   "execution_count": null,
   "metadata": {
    "collapsed": true
   },
   "outputs": [],
   "source": [
    "## Long events by date"
   ]
  },
  {
   "cell_type": "code",
   "execution_count": null,
   "metadata": {
    "collapsed": true
   },
   "outputs": [],
   "source": [
    "# Number of events by background (bgf 0.5)"
   ]
  },
  {
   "cell_type": "code",
   "execution_count": null,
   "metadata": {
    "collapsed": true
   },
   "outputs": [],
   "source": [
    "## By date (from ver4)"
   ]
  }
 ],
 "metadata": {
  "kernelspec": {
   "display_name": "Python 3",
   "language": "python",
   "name": "python3"
  },
  "language_info": {
   "codemirror_mode": {
    "name": "ipython",
    "version": 3
   },
   "file_extension": ".py",
   "mimetype": "text/x-python",
   "name": "python",
   "nbconvert_exporter": "python",
   "pygments_lexer": "ipython3",
   "version": "3.6.3"
  }
 },
 "nbformat": 4,
 "nbformat_minor": 2
}
