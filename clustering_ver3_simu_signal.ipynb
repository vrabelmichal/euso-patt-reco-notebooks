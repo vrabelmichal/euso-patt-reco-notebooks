{
 "cells": [
  {
   "cell_type": "code",
   "execution_count": 1,
   "metadata": {},
   "outputs": [
    {
     "name": "stderr",
     "output_type": "stream",
     "text": [
      "/home/vrabel/EUSO-Balloon/vrabel/venv/lib/python3.6/site-packages/psycopg2/__init__.py:144: UserWarning: The psycopg2 wheel package will be renamed from release 2.8; in order to keep installing from binary please use \"pip install psycopg2-binary\" instead. For details see: <http://initd.org/psycopg/docs/install.html#binary-install-from-pypi>.\n",
      "  \"\"\")\n"
     ]
    },
    {
     "name": "stdout",
     "output_type": "stream",
     "text": [
      "Welcome to JupyROOT 6.13/02\n"
     ]
    }
   ],
   "source": [
    "import sys\n",
    "import os\n",
    "import subprocess\n",
    "\n",
    "app_base_dir = '/home/spbproc/euso-spb-patt-reco-v1'\n",
    "if app_base_dir not in sys.path:\n",
    "    sys.path.append(app_base_dir)\n",
    "\n",
    "import re\n",
    "# import collections\n",
    "import numpy as np\n",
    "import psycopg2 as pg\n",
    "import pandas as pd\n",
    "import pandas.io.sql as psql\n",
    "import getpass\n",
    "import matplotlib as mpl\n",
    "import argparse\n",
    "import glob\n",
    "# from tqdm import tqdm\n",
    "import traceback\n",
    "import hashlib\n",
    "\n",
    "import dataset_query_functions_v3\n",
    "import event_processing_v3\n",
    "import postgresql_v3_event_storage\n",
    "import tool.acqconv\n",
    "from data_analysis_utils import *\n",
    "\n",
    "mpl.rcParams['figure.dpi'] = 80\n",
    "\n",
    "import matplotlib.pyplot as plt\n",
    "\n",
    "#import ROOT\n",
    "\n",
    "# import tool.npy_frames_visualization as npy_vis\n",
    "\n",
    "# from event_recognition_efficiency_v3 import *\n",
    "# import supervised_classification as supc"
   ]
  },
  {
   "cell_type": "code",
   "execution_count": 2,
   "metadata": {},
   "outputs": [],
   "source": [
    "event_v3_storage_provider = dataset_query_functions_v3.build_event_v3_storage_provider(\n",
    "        event_storage_provider_config_file='config.ini', table_names_version='ver3',\n",
    "        event_storage_class=postgresql_v3_event_storage.PostgreSqlEventV3StorageProvider,\n",
    "        event_processing_class=event_processing_v3.EventProcessingV3\n",
    "    )\n",
    "\n",
    "query_functions = dataset_query_functions_v3.Ver3DatasetQueryFunctions(event_v3_storage_provider)\n"
   ]
  },
  {
   "cell_type": "code",
   "execution_count": null,
   "metadata": {
    "collapsed": true
   },
   "outputs": [],
   "source": []
  }
 ],
 "metadata": {
  "kernelspec": {
   "display_name": "Python 3",
   "language": "python",
   "name": "python3"
  },
  "language_info": {
   "codemirror_mode": {
    "name": "ipython",
    "version": 3
   },
   "file_extension": ".py",
   "mimetype": "text/x-python",
   "name": "python",
   "nbconvert_exporter": "python",
   "pygments_lexer": "ipython3",
   "version": "3.6.3"
  }
 },
 "nbformat": 4,
 "nbformat_minor": 2
}
